{
 "cells": [
  {
   "cell_type": "markdown",
   "metadata": {},
   "source": [
    "# Web-scraping: сбор данных из баз данных и интернет-источников\n",
    "\n",
    "*Алла Тамбовцева, НИУ ВШЭ*\n",
    "\n",
    "## Работа с API ВКонтакте: собираем информацию о друзьях"
   ]
  },
  {
   "cell_type": "markdown",
   "metadata": {},
   "source": [
    "Загружаем модули и библиотеки, необходимые для работы:"
   ]
  },
  {
   "cell_type": "code",
   "execution_count": 1,
   "metadata": {},
   "outputs": [],
   "source": [
    "import requests\n",
    "import time\n",
    "import pandas as pd"
   ]
  },
  {
   "cell_type": "markdown",
   "metadata": {},
   "source": [
    "Добавляем токен доступа и версию API:"
   ]
  },
  {
   "cell_type": "code",
   "execution_count": 2,
   "metadata": {},
   "outputs": [],
   "source": [
    "token = \"a4265e3ff88bb0437aeb539d33f6cdf411ab1823a5bac597b3ee4a5e0401d828fac459cdaa929f4c00ee9\"\n",
    "v = \"5.131\""
   ]
  },
  {
   "cell_type": "markdown",
   "metadata": {},
   "source": [
    "### Задача 1\n",
    "\n",
    "Используя документацию API (раздел *Friends*), напишите код, который запросит информацию по друзьям пользователя с некоторым id. Пока достаточно базовой информации – количество друзей и их идентификаторы. Сохраните количество друзей в переменную `n`, а список идентификаторов – в переменную `ids`."
   ]
  },
  {
   "cell_type": "code",
   "execution_count": 3,
   "metadata": {},
   "outputs": [],
   "source": [
    "main_friends = \"https://api.vk.com/method/friends.get\"\n",
    "\n",
    "# параметры – поиск по user_id\n",
    "params_friends = {\"access_token\" : token, \"v\" : v, \n",
    "                  \"user_id\" : 171544496}\n",
    "\n",
    "# как обычно – выгружаем результаты в формате JSON\n",
    "req = requests.get(main_friends, params = params_friends)\n",
    "json = req.json()"
   ]
  },
  {
   "cell_type": "code",
   "execution_count": 4,
   "metadata": {},
   "outputs": [],
   "source": [
    "# извлекаем count и items\n",
    "n = json[\"response\"][\"count\"]\n",
    "ids = json[\"response\"][\"items\"] "
   ]
  },
  {
   "cell_type": "markdown",
   "metadata": {},
   "source": [
    "### Задача 2\n",
    "\n",
    "Сохраните в переменную `i` первый элемент списка `ids`. Используя документацию API (раздел *Users*), напишите код, который запросит следующую информацию по этому пользователю:\n",
    "\n",
    "* id;\n",
    "* имя и фамилия;\n",
    "* дата рождения;\n",
    "* город проживания (только название);\n",
    "* родной город (только название);\n",
    "* университет (только название)."
   ]
  },
  {
   "cell_type": "code",
   "execution_count": 5,
   "metadata": {},
   "outputs": [
    {
     "name": "stdout",
     "output_type": "stream",
     "text": [
      "130896\n"
     ]
    }
   ],
   "source": [
    "i = ids[0]\n",
    "print(i)"
   ]
  },
  {
   "cell_type": "code",
   "execution_count": 6,
   "metadata": {},
   "outputs": [],
   "source": [
    "# в main вписываем необходимый метод\n",
    "# в params добавляем запись с ключом fields\n",
    "# в fields перечисляем необходимые поля через запятую\n",
    "\n",
    "main = \"https://api.vk.com/method/users.get\"\n",
    "params = {\"access_token\" : token, \"v\" : v, \"user_id\" : i,\n",
    "         \"fields\" : \"bdate,city,home_town,universities\"}\n",
    "req2 = requests.get(main, params = params)\n",
    "json2 = req2.json() "
   ]
  },
  {
   "cell_type": "code",
   "execution_count": 7,
   "metadata": {},
   "outputs": [],
   "source": [
    "# извлекаем результат (resp – список)\n",
    "# извлекаем пользователя (нулевой и единственный элемент в resp)\n",
    "\n",
    "resp = json2[\"response\"]\n",
    "user = resp[0]"
   ]
  },
  {
   "cell_type": "code",
   "execution_count": 8,
   "metadata": {},
   "outputs": [],
   "source": [
    "# извлекаем значения из необходимых полей\n",
    "# поиск по ключам id, first_name и так далее\n",
    "\n",
    "id_ = user[\"id\"] \n",
    "first_name = user[\"first_name\"] \n",
    "last_name = user[\"last_name\"]\n",
    "bdate = user[\"bdate\"] \n",
    "home_town = user[\"home_town\"] \n",
    "\n",
    "# здесь интереснее – внутри словаря ещё словарь\n",
    "# извлекаем два раза, оба раза поиск по ключу\n",
    "\n",
    "city = user['city']['title'] \n",
    "\n",
    "# а здесь ещё интереснее – внутри словаря список\n",
    "# извлекаем из списка первый элемент, а уже\n",
    "# из него – запись по ключу name\n",
    "\n",
    "univ = user['universities'][0]['name'] "
   ]
  },
  {
   "cell_type": "markdown",
   "metadata": {},
   "source": [
    "Проверяем:"
   ]
  },
  {
   "cell_type": "code",
   "execution_count": 9,
   "metadata": {},
   "outputs": [
    {
     "name": "stdout",
     "output_type": "stream",
     "text": [
      "130896 Егор Юрескул 29.9.1988 Оренбург Москва МГУ\n"
     ]
    }
   ],
   "source": [
    "print(id_, first_name, last_name, bdate, home_town, city, univ) "
   ]
  },
  {
   "cell_type": "markdown",
   "metadata": {},
   "source": [
    "### Задача 3\n",
    "\n",
    "Напишите функцию `get_users()`, которая принимает на вход список id пользователей, а возвращает характеристики этих пользователей, перечисленные в задаче 2.\n",
    "\n",
    "**Подсказка:** метод для поиска информации по пользователям умеет принимать на вход более одного id за раз."
   ]
  },
  {
   "cell_type": "markdown",
   "metadata": {},
   "source": [
    "Сначала напишем вспомогательную функцию `one_user()`, которая будет извлекать необходимую информацию по одному пользователю (`user` – это просто словарь с данными одного пользователя):"
   ]
  },
  {
   "cell_type": "code",
   "execution_count": 10,
   "metadata": {},
   "outputs": [],
   "source": [
    "def one_user(user):\n",
    "    \n",
    "    # извлекаем информацию более аккуратным способом\n",
    "    # через метод .get() на словарях:\n",
    "    # если записи с таким ключом нет, возвращается None,\n",
    "    # мы не получаем KeyError\n",
    "    \n",
    "    id_ = user.get(\"id\")\n",
    "    first_name = user.get(\"first_name\") \n",
    "    last_name = user.get(\"last_name\")\n",
    "    bdate = user.get(\"bdate\") \n",
    "    home_town = user.get(\"home_town\") \n",
    "    \n",
    "    # пишем исключения, чтобы в случае отсутствия информации \n",
    "    # по городу/университету не возникала ошибка,\n",
    "    # а возвращалась пустая строка\n",
    "    \n",
    "    try:\n",
    "        city_raw = user.get('city')\n",
    "        city = city_raw.get('title') \n",
    "    except:\n",
    "        city = \"\"\n",
    "        \n",
    "    try:\n",
    "        univ_raw = user.get('universities')\n",
    "        univ = univ_raw[0]['name'] \n",
    "    except:\n",
    "        univ = \"\"\n",
    "        \n",
    "    return id_, first_name, last_name, bdate, home_town, city, univ"
   ]
  },
  {
   "cell_type": "markdown",
   "metadata": {},
   "source": [
    "Теперь пишем основную функцию `get_users()`:"
   ]
  },
  {
   "cell_type": "code",
   "execution_count": 11,
   "metadata": {},
   "outputs": [],
   "source": [
    "def get_users(user_ids):\n",
    "    \n",
    "    # user_ids – список из числовых id\n",
    "    # каждый  числовой id нужно превратить в текстовый – тип string\n",
    "    # потом склеить список из текстовых id \n",
    "    # в одну большую строку с разделителем «запятая»\n",
    "    \n",
    "    ids_str = [str(u) for u in user_ids] \n",
    "    res = \",\".join(ids_str)\n",
    "    \n",
    "    # теперь в params в качестве user_ids\n",
    "    # используем строку res со всеми id сразу\n",
    "    \n",
    "    main = \"https://api.vk.com/method/users.get\"\n",
    "    params = {\"access_token\" : token, \"v\" : v, \"user_ids\" : res,\n",
    "              \"fields\" : \"bdate,city,home_town,universities\"}\n",
    "    req2 = requests.get(main, params = params)\n",
    "    json2 = req2.json() \n",
    "    resp = json2[\"response\"]\n",
    "    \n",
    "    # в resp сохранен список словарей\n",
    "    # один словарь = один пользователь\n",
    "    # вопользуемся one_user() и извлечем\n",
    "    # из каждого словаря необходимые значения\n",
    "    \n",
    "    info = []\n",
    "    \n",
    "    for u in resp:\n",
    "        r = one_user(u)\n",
    "        info.append(r)\n",
    "    \n",
    "    return info"
   ]
  },
  {
   "cell_type": "markdown",
   "metadata": {},
   "source": [
    "### Задача 4\n",
    "\n",
    "Примените функцию `get_users()` к пользователям из списка друзей `ids`, сохраните полученные результаты и оформите их в датафрейм."
   ]
  },
  {
   "cell_type": "code",
   "execution_count": 12,
   "metadata": {},
   "outputs": [
    {
     "data": {
      "text/html": [
       "<div>\n",
       "<style scoped>\n",
       "    .dataframe tbody tr th:only-of-type {\n",
       "        vertical-align: middle;\n",
       "    }\n",
       "\n",
       "    .dataframe tbody tr th {\n",
       "        vertical-align: top;\n",
       "    }\n",
       "\n",
       "    .dataframe thead th {\n",
       "        text-align: right;\n",
       "    }\n",
       "</style>\n",
       "<table border=\"1\" class=\"dataframe\">\n",
       "  <thead>\n",
       "    <tr style=\"text-align: right;\">\n",
       "      <th></th>\n",
       "      <th>0</th>\n",
       "      <th>1</th>\n",
       "      <th>2</th>\n",
       "      <th>3</th>\n",
       "      <th>4</th>\n",
       "      <th>5</th>\n",
       "      <th>6</th>\n",
       "    </tr>\n",
       "  </thead>\n",
       "  <tbody>\n",
       "    <tr>\n",
       "      <td>0</td>\n",
       "      <td>130896</td>\n",
       "      <td>Егор</td>\n",
       "      <td>Юрескул</td>\n",
       "      <td>29.9.1988</td>\n",
       "      <td>Оренбург</td>\n",
       "      <td>Москва</td>\n",
       "      <td>МГУ</td>\n",
       "    </tr>\n",
       "    <tr>\n",
       "      <td>1</td>\n",
       "      <td>251877</td>\n",
       "      <td>Антон</td>\n",
       "      <td>Воробьев</td>\n",
       "      <td>26.3</td>\n",
       "      <td>Москва</td>\n",
       "      <td>Москва</td>\n",
       "      <td>ГУ-ВШЭ</td>\n",
       "    </tr>\n",
       "    <tr>\n",
       "      <td>2</td>\n",
       "      <td>703151</td>\n",
       "      <td>Елизавета</td>\n",
       "      <td>Ерохина</td>\n",
       "      <td>10.5.1989</td>\n",
       "      <td>None</td>\n",
       "      <td>Москва</td>\n",
       "      <td></td>\n",
       "    </tr>\n",
       "    <tr>\n",
       "      <td>3</td>\n",
       "      <td>762901</td>\n",
       "      <td>Ярослав</td>\n",
       "      <td>Баяр</td>\n",
       "      <td>16.12.1988</td>\n",
       "      <td>None</td>\n",
       "      <td>Москва</td>\n",
       "      <td></td>\n",
       "    </tr>\n",
       "    <tr>\n",
       "      <td>4</td>\n",
       "      <td>822104</td>\n",
       "      <td>Любовь</td>\n",
       "      <td>Сысоева</td>\n",
       "      <td>27.1</td>\n",
       "      <td>None</td>\n",
       "      <td>Москва</td>\n",
       "      <td></td>\n",
       "    </tr>\n",
       "  </tbody>\n",
       "</table>\n",
       "</div>"
      ],
      "text/plain": [
       "        0          1         2           3         4       5       6\n",
       "0  130896       Егор   Юрескул   29.9.1988  Оренбург  Москва     МГУ\n",
       "1  251877      Антон  Воробьев        26.3    Москва  Москва  ГУ-ВШЭ\n",
       "2  703151  Елизавета   Ерохина   10.5.1989      None  Москва        \n",
       "3  762901    Ярослав      Баяр  16.12.1988      None  Москва        \n",
       "4  822104     Любовь   Сысоева        27.1      None  Москва        "
      ]
     },
     "execution_count": 12,
     "metadata": {},
     "output_type": "execute_result"
    }
   ],
   "source": [
    "final = get_users(ids) \n",
    "dat = pd.DataFrame(final)\n",
    "dat.head()"
   ]
  },
  {
   "cell_type": "code",
   "execution_count": 13,
   "metadata": {},
   "outputs": [],
   "source": [
    "dat.columns = [\"id\", \"name\", \"surname\", \"bdate\", \n",
    "               \"hometown\", \"city\", \"univ\"]"
   ]
  }
 ],
 "metadata": {
  "kernelspec": {
   "display_name": "Python 3",
   "language": "python",
   "name": "python3"
  },
  "language_info": {
   "codemirror_mode": {
    "name": "ipython",
    "version": 3
   },
   "file_extension": ".py",
   "mimetype": "text/x-python",
   "name": "python",
   "nbconvert_exporter": "python",
   "pygments_lexer": "ipython3",
   "version": "3.7.4"
  }
 },
 "nbformat": 4,
 "nbformat_minor": 2
}

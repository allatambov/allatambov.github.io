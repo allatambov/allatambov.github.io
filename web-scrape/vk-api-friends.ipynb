{
 "cells": [
  {
   "cell_type": "markdown",
   "metadata": {},
   "source": [
    "# Web-scraping: сбор данных из баз данных и интернет-источников\n",
    "\n",
    "*Алла Тамбовцева, НИУ ВШЭ*\n",
    "\n",
    "## Работа с API ВКонтакте: собираем информацию о друзьях"
   ]
  },
  {
   "cell_type": "markdown",
   "metadata": {},
   "source": [
    "Загружаем модули и библиотеки, необходимые для работы:"
   ]
  },
  {
   "cell_type": "code",
   "execution_count": 1,
   "metadata": {},
   "outputs": [],
   "source": [
    "import requests\n",
    "import time\n",
    "import pandas as pd"
   ]
  },
  {
   "cell_type": "code",
   "execution_count": 2,
   "metadata": {},
   "outputs": [],
   "source": [
    "# копируем токен доступа\n",
    "\n",
    "token = \"35b4e67084ce980f4b42e87c5d577f503af52cc7778fd9533a3afa2d0e6368b01841bb4dcab93f77a9a21\""
   ]
  },
  {
   "cell_type": "code",
   "execution_count": 4,
   "metadata": {},
   "outputs": [],
   "source": [
    "v = \"5.131\""
   ]
  },
  {
   "cell_type": "markdown",
   "metadata": {},
   "source": [
    "### Задача 1\n",
    "\n",
    "Используя документацию API (раздел *Friends*), напишите код, который запросит информацию по друзьям пользователя с некоторым id. Пока достаточно базовой информации – количество друзей и их идентификаторы. Сохраните количество друзей в переменную `n`, а список идентификаторов – в переменную `ids`."
   ]
  },
  {
   "cell_type": "code",
   "execution_count": null,
   "metadata": {},
   "outputs": [],
   "source": [
    "### YOUR CODE HERE"
   ]
  },
  {
   "cell_type": "markdown",
   "metadata": {},
   "source": [
    "### Задача 2\n",
    "\n",
    "Сохраните в переменную `i` первый элемент списка `ids`. Используя документацию API (раздел *Users*), напишите код, который запросит следующую информацию по этому пользователю:\n",
    "\n",
    "* id;\n",
    "* имя и фамилия;\n",
    "* дата рождения;\n",
    "* город проживания (только название);\n",
    "* родной город (только название);\n",
    "* университет (только название)."
   ]
  },
  {
   "cell_type": "code",
   "execution_count": 37,
   "metadata": {},
   "outputs": [],
   "source": [
    "### YOUR CODE HERE"
   ]
  },
  {
   "cell_type": "markdown",
   "metadata": {},
   "source": [
    "### Задача 3\n",
    "\n",
    "Напишите функцию `get_users()`, которая принимает на вход список id пользователей, а возвращает характеристики этих пользователей, перечисленные в задаче 2.\n",
    "\n",
    "**Подсказка:** метод для поиска информации по пользователям умеет принимать на вход более одного id за раз."
   ]
  },
  {
   "cell_type": "code",
   "execution_count": 51,
   "metadata": {},
   "outputs": [],
   "source": [
    "### YOUR CODE HERE"
   ]
  },
  {
   "cell_type": "markdown",
   "metadata": {},
   "source": [
    "### Задача 4\n",
    "\n",
    "Примените функцию `get_users()` к пользователям из списка друзей `ids`, сохраните полученные результаты и оформите их в датафрейм."
   ]
  },
  {
   "cell_type": "code",
   "execution_count": null,
   "metadata": {},
   "outputs": [],
   "source": [
    "### YOUR CODE HERE"
   ]
  }
 ],
 "metadata": {
  "kernelspec": {
   "display_name": "Python 3",
   "language": "python",
   "name": "python3"
  },
  "language_info": {
   "codemirror_mode": {
    "name": "ipython",
    "version": 3
   },
   "file_extension": ".py",
   "mimetype": "text/x-python",
   "name": "python",
   "nbconvert_exporter": "python",
   "pygments_lexer": "ipython3",
   "version": "3.7.4"
  }
 },
 "nbformat": 4,
 "nbformat_minor": 2
}

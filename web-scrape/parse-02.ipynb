{
 "cells": [
  {
   "cell_type": "markdown",
   "metadata": {},
   "source": [
    "# Web-scraping: сбор данных из баз данных и интернет-источников\n",
    "\n",
    "*Алла Тамбовцева, НИУ ВШЭ*\n",
    "\n",
    "## Семинар 3. Парсинг с библиотекой BeautifulSoup¶"
   ]
  },
  {
   "cell_type": "markdown",
   "metadata": {},
   "source": [
    "В предыдущей серии:"
   ]
  },
  {
   "cell_type": "code",
   "execution_count": null,
   "metadata": {},
   "outputs": [],
   "source": [
    "import requests\n",
    "from bs4 import BeautifulSoup"
   ]
  },
  {
   "cell_type": "code",
   "execution_count": null,
   "metadata": {},
   "outputs": [],
   "source": [
    "page = requests.get(\"https://nplus1.ru/\")\n",
    "soup = BeautifulSoup(page.text)\n",
    "\n",
    "raw_links = soup.find_all(\"a\")\n",
    "news = []\n",
    "\n",
    "for link in raw_links:\n",
    "    if \"news\" in link[\"href\"]:\n",
    "        news.append(link[\"href\"])\n",
    "\n",
    "links_full = []\n",
    "for link in news:\n",
    "    res = \"https://nplus1.ru\" + link\n",
    "    links_full.append(res)"
   ]
  },
  {
   "cell_type": "code",
   "execution_count": null,
   "metadata": {},
   "outputs": [],
   "source": [
    "my_link = links_full[0]\n",
    "my_page = requests.get(my_link)\n",
    "my_soup = BeautifulSoup(my_page.text)\n",
    "\n",
    "author = my_soup.find_all(\"meta\", \n",
    "                 {\"name\" : \"mediator_author\"})[0].get(\"content\")\n",
    "date = my_soup.find_all(\"meta\", \n",
    "                 {\"itemprop\" : \"datePublished\"})[0].get(\"content\")\n",
    "title = my_soup.find_all(\"title\")[0].text\n",
    "desc = my_soup.find_all(\"meta\", \n",
    "                        {\"name\" : \"description\"})[0].get(\"content\")\n",
    "\n",
    "div = my_soup.find_all(\"div\", {\"class\" : \"tables\"})[0]\n",
    "time = div.find_all(\"span\")[0].text\n",
    "diffc = div.find_all(\"span\", {\"class\" : \"difficult-value\"})[0].text\n",
    "rubs_raw = div.find_all(\"p\")[0].find_all(\"a\")\n",
    "rubs = []\n",
    "for r in rubs_raw:\n",
    "    rubs.append(r.text)\n",
    "rubs_str = \", \".join(rubs)"
   ]
  },
  {
   "cell_type": "markdown",
   "metadata": {},
   "source": [
    "С прошлого раза у нас осталась одна задача – выгрузить текст новости и очистить его от лишней информации. Попробуем выполнить поиск по тэгам!"
   ]
  },
  {
   "cell_type": "code",
   "execution_count": null,
   "metadata": {},
   "outputs": [],
   "source": [
    "my_soup.find_all(\"p\")"
   ]
  },
  {
   "cell_type": "code",
   "execution_count": null,
   "metadata": {},
   "outputs": [],
   "source": [
    "my_soup.find_all(\"p\", {\"class\" : None})  # так лучше"
   ]
  },
  {
   "cell_type": "code",
   "execution_count": null,
   "metadata": {},
   "outputs": [],
   "source": [
    "pars_raw = my_soup.find_all(\"p\", {\"class\" : None})"
   ]
  },
  {
   "cell_type": "markdown",
   "metadata": {},
   "source": [
    "Извлечём текст из тэгов и сохраним абзацы в отдельный список:"
   ]
  },
  {
   "cell_type": "code",
   "execution_count": null,
   "metadata": {},
   "outputs": [],
   "source": [
    "pars_text = []\n",
    "for p in pars_raw:\n",
    "    pars_text.append(p.text)\n",
    "pars_text"
   ]
  },
  {
   "cell_type": "markdown",
   "metadata": {},
   "source": [
    "### Задача 1\n",
    "\n",
    "Используя список `raw_texts`, «склейте» из абзацев целый текст и сохраните его в переменную `text`."
   ]
  },
  {
   "cell_type": "markdown",
   "metadata": {},
   "source": [
    "### Задача 2\n",
    "\n",
    "Подумайте, каким образом из `text` можно убрать информацию, не относящуюся к тексту новости. Уберите её и сохраните изменения в переменной `text`."
   ]
  },
  {
   "cell_type": "markdown",
   "metadata": {},
   "source": [
    "### Задача 3\n",
    "\n",
    "Замените символ `\\xa0` на пробел и сохраните изменения в переменной `text`. Подсказка: запросите `help(text.replace)`."
   ]
  },
  {
   "cell_type": "markdown",
   "metadata": {},
   "source": [
    "### Задача 4\n",
    "\n",
    "Напишите функцию `get_info()`, которая принимает на вход ссылку на новость, а возвращает список со всеми характеристиками, которые мы извлекли выше для тестовой новости."
   ]
  },
  {
   "cell_type": "markdown",
   "metadata": {},
   "source": [
    "### Задача 5\n",
    "\n",
    "Примените функцию `get_info()` ко всем элементам списка `links_full` и создайте список списков `info` (один список внутри `info` – характеристики одной новости)."
   ]
  }
 ],
 "metadata": {
  "kernelspec": {
   "display_name": "Python 3",
   "language": "python",
   "name": "python3"
  },
  "language_info": {
   "codemirror_mode": {
    "name": "ipython",
    "version": 3
   },
   "file_extension": ".py",
   "mimetype": "text/x-python",
   "name": "python",
   "nbconvert_exporter": "python",
   "pygments_lexer": "ipython3",
   "version": "3.7.4"
  }
 },
 "nbformat": 4,
 "nbformat_minor": 2
}

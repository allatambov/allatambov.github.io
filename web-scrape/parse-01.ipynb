{
 "cells": [
  {
   "cell_type": "markdown",
   "metadata": {},
   "source": [
    "# Web-scraping: сбор данных из баз данных и интернет-источников\n",
    "\n",
    "*Алла Тамбовцева, НИУ ВШЭ*\n",
    "\n",
    "## Семинар 2. Парсинг с библиотекой BeautifulSoup"
   ]
  },
  {
   "cell_type": "markdown",
   "metadata": {},
   "source": [
    "Импортируем необходимые библиотеки и функции:"
   ]
  },
  {
   "cell_type": "code",
   "execution_count": 1,
   "metadata": {},
   "outputs": [],
   "source": [
    "import requests\n",
    "from bs4 import BeautifulSoup"
   ]
  },
  {
   "cell_type": "markdown",
   "metadata": {},
   "source": [
    "Подключаемся к главной странице сайта [nplus1.ru](https://nplus1.ru/). "
   ]
  },
  {
   "cell_type": "code",
   "execution_count": 2,
   "metadata": {},
   "outputs": [
    {
     "data": {
      "text/plain": [
       "<Response [200]>"
      ]
     },
     "execution_count": 2,
     "metadata": {},
     "output_type": "execute_result"
    }
   ],
   "source": [
    "page = requests.get(\"https://nplus1.ru/\")\n",
    "page"
   ]
  },
  {
   "cell_type": "markdown",
   "metadata": {},
   "source": [
    "Посмотрим на вид запроса к странице – вызовем атрибут `.raw`:"
   ]
  },
  {
   "cell_type": "code",
   "execution_count": 3,
   "metadata": {},
   "outputs": [
    {
     "data": {
      "text/plain": [
       "<urllib3.response.HTTPResponse at 0x106c71710>"
      ]
     },
     "execution_count": 3,
     "metadata": {},
     "output_type": "execute_result"
    }
   ],
   "source": [
    "page.raw"
   ]
  },
  {
   "cell_type": "markdown",
   "metadata": {},
   "source": [
    "***\n",
    "\n",
    "### Задание 1\n",
    "\n",
    "Запросите атрибуты `url` и `text` и сохраните их в переменные `p_url` и `p_text`. \n",
    "***"
   ]
  },
  {
   "cell_type": "code",
   "execution_count": 4,
   "metadata": {},
   "outputs": [],
   "source": [
    "p_url = page.url\n",
    "p_text = page.text"
   ]
  },
  {
   "cell_type": "code",
   "execution_count": 5,
   "metadata": {},
   "outputs": [
    {
     "data": {
      "text/plain": [
       "'https://nplus1.ru/'"
      ]
     },
     "execution_count": 5,
     "metadata": {},
     "output_type": "execute_result"
    }
   ],
   "source": [
    "p_url"
   ]
  },
  {
   "cell_type": "code",
   "execution_count": 6,
   "metadata": {},
   "outputs": [],
   "source": [
    "p_text"
   ]
  },
  {
   "cell_type": "markdown",
   "metadata": {},
   "source": [
    "Теперь подадим исходный код страницы (HTML) на вход функции `BeautifulSoup()`, чтобы превратить его в объект, по которому будет удобно искать информацию по тэгам:"
   ]
  },
  {
   "cell_type": "code",
   "execution_count": 7,
   "metadata": {},
   "outputs": [],
   "source": [
    "soup = BeautifulSoup(page.text)\n",
    "soup"
   ]
  },
  {
   "cell_type": "markdown",
   "metadata": {},
   "source": [
    "Для примера выполним поиск по какому-нибудь тэгу с помощью метода `.find_all()`. Например, найдём все заголовки третьего уровня:"
   ]
  },
  {
   "cell_type": "code",
   "execution_count": 8,
   "metadata": {},
   "outputs": [
    {
     "data": {
      "text/plain": [
       "[<h3>Неолит в Юго-Восточном Узбекистане начался в VI тысячелетии до нашей эры</h3>,\n",
       " <h3>Арктические губковые сады выросли на остатках исчезнувшей тысячи лет назад экосистемы</h3>,\n",
       " <h3>Археологи обнаружили во Франции останки древнейшего кроманьонца</h3>,\n",
       " <h3>Вирус Эбола нашли в мозге приматов после выздоровления</h3>,\n",
       " <h3>«Индженьюити» совершил первый полет после пылевой бури</h3>,\n",
       " <h3>Суперионные сплавы железа обвинили в сильном замедлении сейсмических волн в центре Земли</h3>,\n",
       " <h3>В развитии японских и английских народных песен выявили схожие закономерности</h3>,\n",
       " <h3>Колесо DevOpSansara</h3>,\n",
       " <h3>Философский пароход и фабрики интеллигентов</h3>,\n",
       " <h3>Плазменные зонные пластинки помогут сфокусировать интенсивный свет</h3>,\n",
       " <h3>Электролиз воды в марсианских условиях выработал на шесть процентов меньше кислорода</h3>,\n",
       " <h3>ГЭС нанесли ущерб экономике и растительному покрову Глобального Юга</h3>,\n",
       " <h3>Геомагнитная буря обрекла 40 спутников Starlink на гибель</h3>,\n",
       " <h3>Увеличение продолжительности сна связали с уменьшением потребления калорий</h3>,\n",
       " <h3>Индонезийского крокодила освободили от шины на шее после шести лет неудачных попыток</h3>,\n",
       " <h3>Русское поле экспериментов</h3>,\n",
       " <h3>Зациклиться на устойчивости</h3>,\n",
       " <h3>IceCube не увидел магнитных монополей за восемь лет наблюдений</h3>,\n",
       " <h3>Страх перед хищниками сократил прирост численности певчих овсянок</h3>,\n",
       " <h3>Древние сибиряки заквасили рыбу в глубокой яме</h3>,\n",
       " <h3>Lockheed Martin создаст ракету для доставки марсианского грунта</h3>,\n",
       " <h3>Древний крокодил десятки миллионов лет назад наступил на свои фекалии</h3>,\n",
       " <h3>Избыток углового момента при сверхбыстром размагничивании ушел к фононам</h3>,\n",
       " <h3>Четыре сигнала Хунга-Тонга-Хунга-Хаапай</h3>,\n",
       " <h3>Пассажир из мезозоя</h3>,\n",
       " <h3><a href=\"/news/2022/02/08/cyclotron-resonance-overtones\">Медленные плазмоны сделали графен аномальным поглотителем</a></h3>,\n",
       " <h3><a href=\"/news/2022/02/02/hydrohalogenation-chain-walking\">Химики научились получать первичные галогениды из изомерных алкенов</a></h3>,\n",
       " <h3><a href=\"/news/2022/02/02/Schwinger-monopoles\">Физики не увидели магнитных монополей в столкновении ядер свинца</a></h3>,\n",
       " <h3><a href=\"/news/2022/02/08/ultrafast-demagnetization\">Избыток углового момента при сверхбыстром размагничивании ушел к фононам</a></h3>,\n",
       " <h3><a href=\"/news/2022/02/05/drill-the-tooth\">Ученые построили механическую модель сверления зуба </a></h3>,\n",
       " <h3><a href=\"/news/2022/02/10/sponge-gardens\">Арктические губковые сады выросли на остатках исчезнувшей тысячи лет назад экосистемы</a></h3>,\n",
       " <h3><a href=\"/news/2022/02/09/superionic-iron-alloys\">Суперионные сплавы железа обвинили в сильном замедлении сейсмических волн в центре Земли</a></h3>,\n",
       " <h3><a href=\"/news/2022/02/07/melting-sosulkas\">Аномальность воды повлияла на вариативность подводных сосулек</a></h3>,\n",
       " <h3><a href=\"/material/2022/02/10/lanit-test\">Колесо DevOpSansara</a></h3>,\n",
       " <h3><a href=\"/news/2022/02/01/ictidomys-tridecemlineatus\">Расщепляющие мочевину симбиотические бактерии защитили сусликов от атрофии мышц во время спячки</a></h3>]"
      ]
     },
     "execution_count": 8,
     "metadata": {},
     "output_type": "execute_result"
    }
   ],
   "source": [
    "soup.find_all(\"h3\")"
   ]
  },
  {
   "cell_type": "markdown",
   "metadata": {},
   "source": [
    "Каждый элемент полученного списка – объект типа «элемент beautifulsoup», в который вложено некоторое содержимое, например, текст или новый код на HTML."
   ]
  },
  {
   "cell_type": "markdown",
   "metadata": {},
   "source": [
    "***\n",
    "### Задание 2\n",
    "\n",
    "Сохраните полученные выше результаты в список `h3`. Запросите тип первого элемента списка с помощью функции `type()`.\n",
    "\n",
    "### Задание 3\n",
    "\n",
    "Найдите все ссылки на странице и сохраните их в список `raw_links`.\n",
    "*** "
   ]
  },
  {
   "cell_type": "code",
   "execution_count": 9,
   "metadata": {},
   "outputs": [
    {
     "data": {
      "text/plain": [
       "bs4.element.Tag"
      ]
     },
     "execution_count": 9,
     "metadata": {},
     "output_type": "execute_result"
    }
   ],
   "source": [
    "h3 = soup.find_all(\"h3\")\n",
    "type(h3[0])"
   ]
  },
  {
   "cell_type": "code",
   "execution_count": 8,
   "metadata": {},
   "outputs": [],
   "source": [
    "raw_links = soup.find_all(\"a\")\n",
    "raw_links"
   ]
  },
  {
   "cell_type": "markdown",
   "metadata": {},
   "source": [
    "Возьмём ссылку на рубрику *Астрономия* и посмотрим не неё, она пятая в полученном списке:"
   ]
  },
  {
   "cell_type": "code",
   "execution_count": 11,
   "metadata": {},
   "outputs": [
    {
     "data": {
      "text/plain": [
       "<a class=\"\" href=\"/rubric/astronomy\">Астрономия</a>"
      ]
     },
     "execution_count": 11,
     "metadata": {},
     "output_type": "execute_result"
    }
   ],
   "source": [
    "raw_links[4]"
   ]
  },
  {
   "cell_type": "markdown",
   "metadata": {},
   "source": [
    "С самим тэгом работать не очень интересно, нас интересует его содержимое. Запросим текст внутри тэга:"
   ]
  },
  {
   "cell_type": "code",
   "execution_count": 12,
   "metadata": {},
   "outputs": [
    {
     "data": {
      "text/plain": [
       "'Астрономия'"
      ]
     },
     "execution_count": 12,
     "metadata": {},
     "output_type": "execute_result"
    }
   ],
   "source": [
    "raw_links[4].text"
   ]
  },
  {
   "cell_type": "code",
   "execution_count": null,
   "metadata": {},
   "outputs": [],
   "source": [
    "# a = {\"class\" : \"\", \"href\" : \"/rubric/astronomy\"}"
   ]
  },
  {
   "cell_type": "markdown",
   "metadata": {},
   "source": [
    "А теперь извлечём саму ссылку – значение атрибута `href`:"
   ]
  },
  {
   "cell_type": "code",
   "execution_count": 13,
   "metadata": {},
   "outputs": [
    {
     "data": {
      "text/plain": [
       "'/rubric/astronomy'"
      ]
     },
     "execution_count": 13,
     "metadata": {},
     "output_type": "execute_result"
    }
   ],
   "source": [
    "raw_links[4][\"href\"]"
   ]
  },
  {
   "cell_type": "markdown",
   "metadata": {},
   "source": [
    "Или так:"
   ]
  },
  {
   "cell_type": "code",
   "execution_count": 14,
   "metadata": {},
   "outputs": [
    {
     "data": {
      "text/plain": [
       "'/rubric/astronomy'"
      ]
     },
     "execution_count": 14,
     "metadata": {},
     "output_type": "execute_result"
    }
   ],
   "source": [
    "raw_links[4].get(\"href\")"
   ]
  },
  {
   "cell_type": "markdown",
   "metadata": {},
   "source": [
    "Если бы мы захотели вывести все ссылки на экран, нам понадобился бы цикл `for`:"
   ]
  },
  {
   "cell_type": "code",
   "execution_count": 9,
   "metadata": {},
   "outputs": [],
   "source": [
    "for link in raw_links:\n",
    "    print(link[\"href\"])"
   ]
  },
  {
   "cell_type": "markdown",
   "metadata": {},
   "source": [
    "***\n",
    "\n",
    "### Задание 4\n",
    "\n",
    "Для дальнейшей работы нам нужны только ссылки на новости, то есть те ссылки, которые начинаются с `/news`. Напишите код, который извлекает из списка `raw_links` только те тэги, которые содержат ссылки на новости, и сохраняет в список `news` сами ссылки в виде текста, без тэгов.\n",
    "\n",
    "\n",
    "### Задание 5\n",
    "\n",
    "Ссылки на новости в списке `news` – относительные, по ним нельзя сразу перейти на страницу новости, а значит, нельзя передать Python для дальнейшей работы. Сделайте ссылки абсолютными – доклейте к каждой ссылке в `news` ссылку на главную страницу сайта `https://nplus1.ru` и сохраните полученные результаты в список `links_full`.\n",
    "\n",
    "***\n"
   ]
  },
  {
   "cell_type": "code",
   "execution_count": 16,
   "metadata": {},
   "outputs": [
    {
     "data": {
      "text/plain": [
       "['/news/2022/02/10/neolithization-uzbekistan',\n",
       " '/news/2022/02/10/sponge-gardens',\n",
       " '/news/2022/02/09/first-modern-humans',\n",
       " '/news/2022/02/09/ebola-in-brains',\n",
       " '/news/2022/02/09/mars-drone-1-flight-2022',\n",
       " '/news/2022/02/09/superionic-iron-alloys',\n",
       " '/news/2022/02/09/musical-evolution',\n",
       " '/news/2022/02/09/plasma-zone-plate',\n",
       " '/news/2022/02/09/is-there-elecrolysis-on-Mars',\n",
       " '/news/2022/02/09/hydropower-dams',\n",
       " '/news/2022/02/09/starlink-lose',\n",
       " '/news/2022/02/09/sleep-energy',\n",
       " '/news/2022/02/09/free-croc',\n",
       " '/news/2022/02/09/icecube-monopoles',\n",
       " '/news/2022/02/09/melospiza-melodia',\n",
       " '/news/2022/02/09/storage-pit',\n",
       " '/news/2022/02/08/rocket-for-mars-samples',\n",
       " '/news/2022/02/08/crocodilian-coprolite',\n",
       " '/news/2022/02/08/ultrafast-demagnetization',\n",
       " '/news/2022/02/08/cyclotron-resonance-overtones',\n",
       " '/news/2022/02/02/hydrohalogenation-chain-walking',\n",
       " '/news/2022/02/02/Schwinger-monopoles',\n",
       " '/news/2022/02/08/ultrafast-demagnetization',\n",
       " '/news/2022/02/05/drill-the-tooth',\n",
       " '/news/2022/02/10/sponge-gardens',\n",
       " '/news/2022/02/09/superionic-iron-alloys',\n",
       " '/news/2022/02/07/melting-sosulkas',\n",
       " '/news/2022/02/01/ictidomys-tridecemlineatus']"
      ]
     },
     "execution_count": 16,
     "metadata": {},
     "output_type": "execute_result"
    }
   ],
   "source": [
    "news = []\n",
    "for link in raw_links:\n",
    "    if \"news\" in link[\"href\"]:\n",
    "        news.append(link[\"href\"])\n",
    "news"
   ]
  },
  {
   "cell_type": "code",
   "execution_count": 17,
   "metadata": {},
   "outputs": [],
   "source": [
    "links_full = []\n",
    "for link in news:\n",
    "    res = \"https://nplus1.ru\" + link\n",
    "    links_full.append(res)"
   ]
  },
  {
   "cell_type": "code",
   "execution_count": 18,
   "metadata": {},
   "outputs": [
    {
     "data": {
      "text/plain": [
       "['https://nplus1.ru/news/2022/02/10/neolithization-uzbekistan',\n",
       " 'https://nplus1.ru/news/2022/02/10/sponge-gardens',\n",
       " 'https://nplus1.ru/news/2022/02/09/first-modern-humans',\n",
       " 'https://nplus1.ru/news/2022/02/09/ebola-in-brains',\n",
       " 'https://nplus1.ru/news/2022/02/09/mars-drone-1-flight-2022',\n",
       " 'https://nplus1.ru/news/2022/02/09/superionic-iron-alloys',\n",
       " 'https://nplus1.ru/news/2022/02/09/musical-evolution',\n",
       " 'https://nplus1.ru/news/2022/02/09/plasma-zone-plate',\n",
       " 'https://nplus1.ru/news/2022/02/09/is-there-elecrolysis-on-Mars',\n",
       " 'https://nplus1.ru/news/2022/02/09/hydropower-dams',\n",
       " 'https://nplus1.ru/news/2022/02/09/starlink-lose',\n",
       " 'https://nplus1.ru/news/2022/02/09/sleep-energy',\n",
       " 'https://nplus1.ru/news/2022/02/09/free-croc',\n",
       " 'https://nplus1.ru/news/2022/02/09/icecube-monopoles',\n",
       " 'https://nplus1.ru/news/2022/02/09/melospiza-melodia',\n",
       " 'https://nplus1.ru/news/2022/02/09/storage-pit',\n",
       " 'https://nplus1.ru/news/2022/02/08/rocket-for-mars-samples',\n",
       " 'https://nplus1.ru/news/2022/02/08/crocodilian-coprolite',\n",
       " 'https://nplus1.ru/news/2022/02/08/ultrafast-demagnetization',\n",
       " 'https://nplus1.ru/news/2022/02/08/cyclotron-resonance-overtones',\n",
       " 'https://nplus1.ru/news/2022/02/02/hydrohalogenation-chain-walking',\n",
       " 'https://nplus1.ru/news/2022/02/02/Schwinger-monopoles',\n",
       " 'https://nplus1.ru/news/2022/02/08/ultrafast-demagnetization',\n",
       " 'https://nplus1.ru/news/2022/02/05/drill-the-tooth',\n",
       " 'https://nplus1.ru/news/2022/02/10/sponge-gardens',\n",
       " 'https://nplus1.ru/news/2022/02/09/superionic-iron-alloys',\n",
       " 'https://nplus1.ru/news/2022/02/07/melting-sosulkas',\n",
       " 'https://nplus1.ru/news/2022/02/01/ictidomys-tridecemlineatus']"
      ]
     },
     "execution_count": 18,
     "metadata": {},
     "output_type": "execute_result"
    }
   ],
   "source": [
    "links_full"
   ]
  },
  {
   "cell_type": "markdown",
   "metadata": {},
   "source": [
    "Теперь выберем первую ссылку и напишем код, который будет сгружать информацию о новости по её ссылке. Так как все страницы с новостями на этом сайте строятся по единой схеме, если мы научимся выгружать данные по одной новости, мы сможем повторить это для всех новостей!"
   ]
  },
  {
   "cell_type": "code",
   "execution_count": 19,
   "metadata": {},
   "outputs": [],
   "source": [
    "my_link = links_full[0]"
   ]
  },
  {
   "cell_type": "markdown",
   "metadata": {},
   "source": [
    "Подключимся к странице этой новости, выгрузим её исходный код и превратим в объект `BeautifulSoup`:"
   ]
  },
  {
   "cell_type": "code",
   "execution_count": 20,
   "metadata": {},
   "outputs": [],
   "source": [
    "my_page = requests.get(my_link)\n",
    "my_soup = BeautifulSoup(my_page.text)"
   ]
  },
  {
   "cell_type": "markdown",
   "metadata": {},
   "source": [
    "Если мы посмотрим на исходный код страницы, мы заметим, что общая информация по новости хранится в тэгах `<meta>`:"
   ]
  },
  {
   "cell_type": "code",
   "execution_count": 21,
   "metadata": {},
   "outputs": [
    {
     "data": {
      "text/plain": [
       "[<meta charset=\"utf-8\"/>,\n",
       " <meta content=\"ie=edge\" http-equiv=\"x-ua-compatible\"/>,\n",
       " <meta content=\"width=device-width, initial-scale=1\" name=\"viewport\"/>,\n",
       " <meta content=\"yes\" name=\"apple-mobile-web-app-capable\"/>,\n",
       " <meta content=\"black\" name=\"apple-mobile-web-app-status-bar-style\"/>,\n",
       " <meta content=\"7991d7eb02d759f05b9050e111a7e3eb\" name=\"wmail-verification\"/>,\n",
       " <meta content=\"2022-02-10\" itemprop=\"datePublished\"/>,\n",
       " <meta content=\"Михаил Подрезов\" name=\"mediator_author\"/>,\n",
       " <meta content=\"Археологи провели исследование скального навеса Кайнар-Камар\" name=\"description\"/>,\n",
       " <meta content=\"Михаил Подрезов\" name=\"author\"/>,\n",
       " <meta content=\"\" name=\"copyright\"/>,\n",
       " <meta content=\"Неолит в Юго-Восточном Узбекистане начался в VI тысячелетии до нашей эры\" property=\"og:title\"/>,\n",
       " <meta content=\"https://nplus1.ru/images/2022/02/09/917af62bc0de1c67509cef3988890414.jpg\" property=\"og:image\"/>,\n",
       " <meta content=\"https://nplus1.ru/news/2022/02/10/neolithization-uzbekistan\" property=\"og:url\"/>,\n",
       " <meta content=\"Археологи провели исследование скального навеса Кайнар-Камар\" property=\"og:description\"/>,\n",
       " <meta content=\"summary_large_image\" name=\"twitter:card\"/>,\n",
       " <meta content=\"@nplusodin\" name=\"twitter:site\"/>,\n",
       " <meta content=\"Неолит в Юго-Восточном Узбекистане начался в VI тысячелетии до нашей эры\" name=\"twitter:title\"/>,\n",
       " <meta content=\"Археологи провели исследование скального навеса Кайнар-Камар\" name=\"twitter:description\"/>,\n",
       " <meta content=\"https://nplus1.ru/images/2022/02/09/917af62bc0de1c67509cef3988890414.jpg\" name=\"twitter:image\"/>,\n",
       " <meta content=\"8c90b02c84ac3b72\" name=\"yandex-verification\"/>,\n",
       " <meta content=\"b419949322895fc9106e24ed01be58ac\" name=\"pmail-verification\"/>]"
      ]
     },
     "execution_count": 21,
     "metadata": {},
     "output_type": "execute_result"
    }
   ],
   "source": [
    "my_soup.find_all(\"meta\")"
   ]
  },
  {
   "cell_type": "markdown",
   "metadata": {},
   "source": [
    "Как выбрать только те части, которые нам могут быть интересны? Например, части HTML с автором статьи, датой её публикации, заголовком и кратким содержанием? Выполнить более точный поиск с учётом конкретных атрибутов и их значений. Например, мы видим, что имя автора находится в тэге `<meta>` с атрибутом `name`, равным `mediator_author`:"
   ]
  },
  {
   "cell_type": "code",
   "execution_count": 22,
   "metadata": {},
   "outputs": [
    {
     "data": {
      "text/plain": [
       "[<meta content=\"Михаил Подрезов\" name=\"mediator_author\"/>]"
      ]
     },
     "execution_count": 22,
     "metadata": {},
     "output_type": "execute_result"
    }
   ],
   "source": [
    "my_soup.find_all(\"meta\", {\"name\" : \"mediator_author\"})"
   ]
  },
  {
   "cell_type": "markdown",
   "metadata": {},
   "source": [
    "Отлично, мы вышли на автора статьи! Только хотелось бы получить его имя в виде «чистого» текста. Извлечём из полученного списка один единственный элемент и заберём из него значение атрибута `content` (вспомните про работу с `href` ранее):"
   ]
  },
  {
   "cell_type": "code",
   "execution_count": 23,
   "metadata": {},
   "outputs": [
    {
     "data": {
      "text/plain": [
       "'Михаил Подрезов'"
      ]
     },
     "execution_count": 23,
     "metadata": {},
     "output_type": "execute_result"
    }
   ],
   "source": [
    "my_soup.find_all(\"meta\", {\"name\" : \"mediator_author\"})[0].get(\"content\")"
   ]
  },
  {
   "cell_type": "code",
   "execution_count": 24,
   "metadata": {},
   "outputs": [
    {
     "data": {
      "text/plain": [
       "'Михаил Подрезов'"
      ]
     },
     "execution_count": 24,
     "metadata": {},
     "output_type": "execute_result"
    }
   ],
   "source": [
    "my_soup.find_all(\"meta\", {\"name\" : \"mediator_author\"})[0][\"content\"] "
   ]
  },
  {
   "cell_type": "code",
   "execution_count": 25,
   "metadata": {},
   "outputs": [],
   "source": [
    "author = my_soup.find_all(\"meta\", \n",
    "                 {\"name\" : \"mediator_author\"})[0].get(\"content\")"
   ]
  },
  {
   "cell_type": "markdown",
   "metadata": {},
   "source": [
    "***\n",
    "### Задание 6\n",
    "\n",
    "Аналогичным образом извлеките дату публикации новости, заголовок и краткое содержание (описание) новости и сохраните их в переменные `date`, `title`, `desc` соответственно. \n",
    "\n",
    "***"
   ]
  },
  {
   "cell_type": "code",
   "execution_count": 30,
   "metadata": {},
   "outputs": [],
   "source": [
    "date = my_soup.find_all(\"meta\", \n",
    "                 {\"itemprop\" : \"datePublished\"})[0].get(\"content\")\n",
    "title = my_soup.find_all(\"title\")[0].text\n",
    "desc = my_soup.find_all(\"meta\", \n",
    "                        {\"name\" : \"description\"})[0].get(\"content\")"
   ]
  },
  {
   "cell_type": "markdown",
   "metadata": {},
   "source": [
    "Какие ещё характеристики новости нам могут пригодиться (сам текст пока не трогаем)? Время публикации, рубрики и сложность новости. Если пролистаем исходный код до начала самой новости, мы обнаружим перед текстом три таблицы, три абзаца `<p>` с классом `table`. Все они находятся в разделе `<div>` с классом `tables`. "
   ]
  },
  {
   "cell_type": "markdown",
   "metadata": {},
   "source": [
    "***\n",
    "### Задание 7\n",
    "\n",
    "Извлеките время публикации новости, рубрики и сложность новости и сохраните их в переменные `time`, `rubs`,  `diffc` соответственно.\n",
    "***"
   ]
  },
  {
   "cell_type": "code",
   "execution_count": 34,
   "metadata": {},
   "outputs": [
    {
     "data": {
      "text/plain": [
       "<div class=\"tables\">\n",
       "<p class=\"table\">\n",
       "<a data-rubric=\"archaeology\" href=\"/rubric/archaeology\">Археология</a>\n",
       "<a data-rubric=\"anthropology\" href=\"/rubric/anthropology\">Антропология</a>\n",
       "</p>\n",
       "<p class=\"table\">\n",
       "<a href=\"/news/2022/02/10\">\n",
       "<time content=\"2022-02-10\" data-unix=\"1644478290\" itemprop=\"datePublished\">\n",
       "<span>10:31</span>\n",
       "<span>10 Фев. 2022</span>\n",
       "</time>\n",
       "</a>\n",
       "</p>\n",
       "<p class=\"table\">\n",
       "<a href=\"/difficult/3.9\">\n",
       "<span>Сложность</span>\n",
       "<span class=\"difficult-value\">3.9</span>\n",
       "</a>\n",
       "</p>\n",
       "</div>"
      ]
     },
     "execution_count": 34,
     "metadata": {},
     "output_type": "execute_result"
    }
   ],
   "source": [
    "div = my_soup.find_all(\"div\", {\"class\" : \"tables\"})[0]\n",
    "div"
   ]
  },
  {
   "cell_type": "code",
   "execution_count": 39,
   "metadata": {},
   "outputs": [
    {
     "data": {
      "text/plain": [
       "[<span>10:31</span>,\n",
       " <span>10 Фев. 2022</span>,\n",
       " <span>Сложность</span>,\n",
       " <span class=\"difficult-value\">3.9</span>]"
      ]
     },
     "execution_count": 39,
     "metadata": {},
     "output_type": "execute_result"
    }
   ],
   "source": [
    "div.find_all(\"span\")"
   ]
  },
  {
   "cell_type": "code",
   "execution_count": 41,
   "metadata": {},
   "outputs": [],
   "source": [
    "time = div.find_all(\"span\")[0].text"
   ]
  },
  {
   "cell_type": "code",
   "execution_count": 42,
   "metadata": {},
   "outputs": [],
   "source": [
    "diffc = div.find_all(\"span\", {\"class\" : \"difficult-value\"})[0].text"
   ]
  },
  {
   "cell_type": "code",
   "execution_count": 46,
   "metadata": {},
   "outputs": [
    {
     "data": {
      "text/plain": [
       "[<a data-rubric=\"archaeology\" href=\"/rubric/archaeology\">Археология</a>,\n",
       " <a data-rubric=\"anthropology\" href=\"/rubric/anthropology\">Антропология</a>]"
      ]
     },
     "execution_count": 46,
     "metadata": {},
     "output_type": "execute_result"
    }
   ],
   "source": [
    "rubs_raw = div.find_all(\"p\")[0].find_all(\"a\")\n",
    "rubs_raw"
   ]
  },
  {
   "cell_type": "code",
   "execution_count": 47,
   "metadata": {},
   "outputs": [],
   "source": [
    "rubs = []\n",
    "for r in rubs_raw:\n",
    "    rubs.append(r.text)\n",
    "rubs"
   ]
  },
  {
   "cell_type": "code",
   "execution_count": 50,
   "metadata": {},
   "outputs": [
    {
     "data": {
      "text/plain": [
       "'Археология, Антропология'"
      ]
     },
     "execution_count": 50,
     "metadata": {},
     "output_type": "execute_result"
    }
   ],
   "source": [
    "\", \".join(rubs)"
   ]
  }
 ],
 "metadata": {
  "kernelspec": {
   "display_name": "Python 3",
   "language": "python",
   "name": "python3"
  },
  "language_info": {
   "codemirror_mode": {
    "name": "ipython",
    "version": 3
   },
   "file_extension": ".py",
   "mimetype": "text/x-python",
   "name": "python",
   "nbconvert_exporter": "python",
   "pygments_lexer": "ipython3",
   "version": "3.7.4"
  }
 },
 "nbformat": 4,
 "nbformat_minor": 2
}

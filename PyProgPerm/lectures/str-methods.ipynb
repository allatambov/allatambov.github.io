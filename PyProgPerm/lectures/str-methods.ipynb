{
 "cells": [
  {
   "cell_type": "markdown",
   "metadata": {},
   "source": [
    "## Программирование на Python\n",
    "\n",
    "*Алла Тамбовцева, НИУ ВШЭ*\n",
    "\n",
    "### Методы  `.split()` и `.join()`\n",
    "\n",
    "Одни из самых распространённых методов на строках – методы `.split()` и `.join()`. Первый нужен для того, чтобы разбивать строку на части, а второй – чтобы, напротив, склеивать перечень строк в одну большую строку. Допустим, у нас есть строка с текстом и мы хотим разбить его на слова. Применим метод `.split()`:"
   ]
  },
  {
   "cell_type": "code",
   "execution_count": 1,
   "metadata": {},
   "outputs": [
    {
     "name": "stdout",
     "output_type": "stream",
     "text": [
      "['Python', 'is', 'cool']\n"
     ]
    }
   ],
   "source": [
    "text = \"Python is cool\"\n",
    "print(text.split())"
   ]
  },
  {
   "cell_type": "markdown",
   "metadata": {},
   "source": [
    "По умолчанию `.split()` разбивает строку по пробелу и возвращает список. Но в качестве аргумента можно указать любой набор символов:"
   ]
  },
  {
   "cell_type": "code",
   "execution_count": 2,
   "metadata": {},
   "outputs": [
    {
     "name": "stdout",
     "output_type": "stream",
     "text": [
      "['Python ', ' cool']\n"
     ]
    }
   ],
   "source": [
    "words = text.split(\"is\")\n",
    "print(words)"
   ]
  },
  {
   "cell_type": "markdown",
   "metadata": {},
   "source": [
    "Строка была разбита по слову \"is\", само оно было исключено. Если мы хотим избавиться от лишних пробелов в начале и конце элементов списка, можно применить метод `.strip()`:"
   ]
  },
  {
   "cell_type": "code",
   "execution_count": 3,
   "metadata": {},
   "outputs": [
    {
     "name": "stdout",
     "output_type": "stream",
     "text": [
      "Python cool\n"
     ]
    }
   ],
   "source": [
    "one = words[0].strip()\n",
    "two = words[1].strip()\n",
    "\n",
    "print(one, two)"
   ]
  },
  {
   "cell_type": "markdown",
   "metadata": {},
   "source": [
    "Метод `.join()` производит обратную операцию – конкатенацию строк. Он склеивает перечень строк в одну строку. Метод применяется к строке – разделителю, который мы будем использовать при склеивании, а в качестве аргумента указывается перечень строк (список или кортеж)."
   ]
  },
  {
   "cell_type": "code",
   "execution_count": 4,
   "metadata": {},
   "outputs": [
    {
     "name": "stdout",
     "output_type": "stream",
     "text": [
      "A-B-C\n"
     ]
    }
   ],
   "source": [
    "print(\"-\".join([\"A\", \"B\", \"C\"]))"
   ]
  },
  {
   "cell_type": "code",
   "execution_count": 5,
   "metadata": {},
   "outputs": [
    {
     "name": "stdout",
     "output_type": "stream",
     "text": [
      "A\n",
      "B\n",
      "C\n"
     ]
    }
   ],
   "source": [
    "print(\"\\n\".join([\"A\", \"B\", \"C\"]))  # \\n – переход на новую строку"
   ]
  },
  {
   "cell_type": "code",
   "execution_count": 6,
   "metadata": {},
   "outputs": [
    {
     "name": "stdout",
     "output_type": "stream",
     "text": [
      "A\tB\tC\n"
     ]
    }
   ],
   "source": [
    "print(\"\\t\".join([\"A\", \"B\", \"C\"]))  # \\t – табуляция"
   ]
  },
  {
   "cell_type": "markdown",
   "metadata": {},
   "source": [
    "### Методы на строках\n",
    "\n",
    "Рассмотрим некоторые полезные методы на строках, которые позволяют получить модифицированную копию строки. Почитать про все методы на строках можно [здесь](https://www.w3schools.com/python/python_ref_string.asp). Создадим строковую переменную `text` и поэкспериментируем с ней."
   ]
  },
  {
   "cell_type": "code",
   "execution_count": 7,
   "metadata": {},
   "outputs": [],
   "source": [
    "text = \"python is waiting for Anaconda.\""
   ]
  },
  {
   "cell_type": "markdown",
   "metadata": {},
   "source": [
    "Метод `.capitalize()` делает первую букву строки заглавной (если на первом месте стоит другой символ – ничего не происходит), а метод `.title()` производит ту же операцию для каждого слова в строке."
   ]
  },
  {
   "cell_type": "code",
   "execution_count": 8,
   "metadata": {},
   "outputs": [
    {
     "name": "stdout",
     "output_type": "stream",
     "text": [
      "Python is waiting for anaconda.\n"
     ]
    }
   ],
   "source": [
    "cap = text.capitalize()\n",
    "print(cap)"
   ]
  },
  {
   "cell_type": "code",
   "execution_count": 9,
   "metadata": {},
   "outputs": [
    {
     "name": "stdout",
     "output_type": "stream",
     "text": [
      "Python Is Waiting For Anaconda.\n"
     ]
    }
   ],
   "source": [
    "tit = text.title()\n",
    "print(tit)"
   ]
  },
  {
   "cell_type": "markdown",
   "metadata": {},
   "source": [
    "В Python довольно много методов, которые позволяют работать с регистром строки (верхний регистр – заглавные буквы, нижний регистр – строчные буквы). Так, метод `.lower()` приводит всю строку к нижнему регистру, а метод `.upper()` – к верхнему."
   ]
  },
  {
   "cell_type": "code",
   "execution_count": 10,
   "metadata": {},
   "outputs": [
    {
     "name": "stdout",
     "output_type": "stream",
     "text": [
      "PYTHON IS WAITING FOR ANACONDA.\n"
     ]
    }
   ],
   "source": [
    "shout = text.upper()\n",
    "print(shout)"
   ]
  },
  {
   "cell_type": "code",
   "execution_count": 11,
   "metadata": {},
   "outputs": [
    {
     "name": "stdout",
     "output_type": "stream",
     "text": [
      "python is waiting for anaconda.\n"
     ]
    }
   ],
   "source": [
    "whisper = text.lower()\n",
    "print(whisper)"
   ]
  },
  {
   "cell_type": "markdown",
   "metadata": {},
   "source": [
    "Кроме того, существует метод `.swapcase()`, он меняет регистр каждого символа – если буква заглавная, он делает её строчной, если строчная – заглавной:"
   ]
  },
  {
   "cell_type": "code",
   "execution_count": 12,
   "metadata": {},
   "outputs": [
    {
     "name": "stdout",
     "output_type": "stream",
     "text": [
      "PYTHON IS WAITING FOR aNACONDA.\n"
     ]
    }
   ],
   "source": [
    "print(text.swapcase())"
   ]
  },
  {
   "cell_type": "markdown",
   "metadata": {},
   "source": [
    "Если нам нужно заменить какой-то символ или подстроку в строке, пригодится метод `.replace()`."
   ]
  },
  {
   "cell_type": "code",
   "execution_count": 13,
   "metadata": {},
   "outputs": [
    {
     "name": "stdout",
     "output_type": "stream",
     "text": [
      "pythoN is waitiNg for ANacoNda.\n"
     ]
    }
   ],
   "source": [
    "new = text.replace(\"n\", \"N\")  # что-заменяем, на что заменяем\n",
    "print(new)"
   ]
  },
  {
   "cell_type": "markdown",
   "metadata": {},
   "source": [
    "Ещё один полезный метод – метод `.zfill()`. Он расшифровывается как *fill with zeroes* и добавляет нули в начало строки, столько нулей, сколько нужно для получения строки заданной длины. Особенно актуален этот метод при работе с файлами. Если у нас есть 100 файлов с названиями вида `1.txt`, `2.txt`,`100.txt`, правильно упорядочить по возрастанию их не получится: Python будет посимвольно сравнивать строки, и тогда файлы `1.txt`, `10.txt` и `100.txt` окажутся рядом, что противоречит выбранной сортировке. Проверим:"
   ]
  },
  {
   "cell_type": "code",
   "execution_count": 14,
   "metadata": {},
   "outputs": [
    {
     "name": "stdout",
     "output_type": "stream",
     "text": [
      "['1.txt', '10.txt', '100.txt', '2.txt', '3.txt', '56.txt']\n"
     ]
    }
   ],
   "source": [
    "files = [\"1.txt\", \"2.txt\", \"3.txt\", \"100.txt\", \"10.txt\", \"56.txt\"]\n",
    "print(sorted(files))  # неправильно!"
   ]
  },
  {
   "cell_type": "markdown",
   "metadata": {},
   "source": [
    "Изменим все названия на трёхзначные числа – дозаполним нулями:"
   ]
  },
  {
   "cell_type": "code",
   "execution_count": 15,
   "metadata": {},
   "outputs": [
    {
     "name": "stdout",
     "output_type": "stream",
     "text": [
      "['001.txt', '002.txt', '003.txt', '100.txt', '010.txt', '056.txt']\n"
     ]
    }
   ],
   "source": [
    "# трёхзначное число + расширение .txt, всего 7 символов \n",
    "\n",
    "files_new = []\n",
    "for file in files:\n",
    "    files_new.append(file.zfill(7))\n",
    "print(files_new)"
   ]
  },
  {
   "cell_type": "code",
   "execution_count": 16,
   "metadata": {},
   "outputs": [
    {
     "name": "stdout",
     "output_type": "stream",
     "text": [
      "['001.txt', '002.txt', '003.txt', '010.txt', '056.txt', '100.txt']\n"
     ]
    }
   ],
   "source": [
    "print(sorted(files_new))  # правильно!"
   ]
  }
 ],
 "metadata": {
  "kernelspec": {
   "display_name": "Python 3",
   "language": "python",
   "name": "python3"
  },
  "language_info": {
   "codemirror_mode": {
    "name": "ipython",
    "version": 3
   },
   "file_extension": ".py",
   "mimetype": "text/x-python",
   "name": "python",
   "nbconvert_exporter": "python",
   "pygments_lexer": "ipython3",
   "version": "3.7.4"
  }
 },
 "nbformat": 4,
 "nbformat_minor": 2
}

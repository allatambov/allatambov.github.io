{
 "cells": [
  {
   "cell_type": "markdown",
   "metadata": {},
   "source": [
    "# Программирование на Python\n",
    "\n",
    "*Алла Тамбовцева, НИУ ВШЭ*\n",
    "\n",
    "## Практикум 5. Парсинг с библиотекой BeautifulSoup"
   ]
  },
  {
   "cell_type": "markdown",
   "metadata": {},
   "source": [
    "Импортируем необходимые библиотеки и функции:"
   ]
  },
  {
   "cell_type": "code",
   "execution_count": 1,
   "metadata": {},
   "outputs": [],
   "source": [
    "import requests\n",
    "from bs4 import BeautifulSoup"
   ]
  },
  {
   "cell_type": "markdown",
   "metadata": {},
   "source": [
    "Подключаемся к главной странице сайта [nplus1.ru](https://nplus1.ru/). "
   ]
  },
  {
   "cell_type": "code",
   "execution_count": 2,
   "metadata": {},
   "outputs": [
    {
     "data": {
      "text/plain": [
       "<Response [200]>"
      ]
     },
     "execution_count": 2,
     "metadata": {},
     "output_type": "execute_result"
    }
   ],
   "source": [
    "page = requests.get(\"https://nplus1.ru/\")\n",
    "page"
   ]
  },
  {
   "cell_type": "markdown",
   "metadata": {},
   "source": [
    "Посмотрим на вид запроса к странице – вызовем атрибут `.raw`:"
   ]
  },
  {
   "cell_type": "code",
   "execution_count": 3,
   "metadata": {},
   "outputs": [
    {
     "data": {
      "text/plain": [
       "<urllib3.response.HTTPResponse at 0x112870850>"
      ]
     },
     "execution_count": 3,
     "metadata": {},
     "output_type": "execute_result"
    }
   ],
   "source": [
    "page.raw"
   ]
  },
  {
   "cell_type": "markdown",
   "metadata": {},
   "source": [
    "***\n",
    "\n",
    "### Задание 1\n",
    "\n",
    "Запросите атрибуты `url` и `text` и сохраните их в переменные `p_url` и `p_text`. \n",
    "***"
   ]
  },
  {
   "cell_type": "code",
   "execution_count": 4,
   "metadata": {},
   "outputs": [],
   "source": [
    "p_url = page.url\n",
    "p_text = page.text"
   ]
  },
  {
   "cell_type": "markdown",
   "metadata": {},
   "source": [
    "Теперь подадим исходный код страницы (HTML) на вход функции `BeautifulSoup()`, чтобы превратить его в объект, по которому будет удобно искать информацию по тэгам:"
   ]
  },
  {
   "cell_type": "code",
   "execution_count": 5,
   "metadata": {},
   "outputs": [],
   "source": [
    "soup = BeautifulSoup(page.text)\n",
    "# soup"
   ]
  },
  {
   "cell_type": "markdown",
   "metadata": {},
   "source": [
    "Для примера выполним поиск по какому-нибудь тэгу с помощью метода `.find_all()`. Например, найдём все заголовки третьего уровня:"
   ]
  },
  {
   "cell_type": "code",
   "execution_count": 6,
   "metadata": {},
   "outputs": [
    {
     "data": {
      "text/plain": [
       "[<h3>Суходревесные термиты около 40 раз пересекли океаны за последние 50 миллионов лет</h3>,\n",
       " <h3>Физики напрямую измерили разность фаз слабого взаимодействия у дважды странных барионов</h3>,\n",
       " <h3>Археологи разобрались в хронологии испанского памятника с палеолитическим искусством</h3>,\n",
       " <h3>Исследователи заподозрили существование собственного словаря у нейросети DALL-E 2</h3>,\n",
       " <h3>Астрономы уличили звезды в областях звездообразования в краже планет друг у друга</h3>,\n",
       " <h3>Физики поймали в магнитооптическую ловушку многоатомные молекулы</h3>,\n",
       " <h3>Премию Кавли присудили за астросейсмологию и самосборку молекулярных монослоев</h3>,\n",
       " <h3>Бесконечное число самых прекрасных форм</h3>,\n",
       " <h3>Археологи обнаружили на турецком побережье четыре местонахождения с орудиями нижнего палеолита</h3>,\n",
       " <h3>Египетский археометаллург воссоздал древний метод полого бронзового литья</h3>,\n",
       " <h3>В якутском янтаре возрастом 95 миллионов лет нашли жука-шипоноску и назвали Якутией</h3>,\n",
       " <h3>«Индженьюити» сократит число полетов на время зимы</h3>,\n",
       " <h3>Летающая обсерватория SOFIA увидела потемнение симбиотической переменной R Водолея </h3>,\n",
       " <h3>Астрономы обнаружили загадочный радиоисточник в спиральной галактике NGC 2082</h3>,\n",
       " <h3>Адьос, амигос!</h3>,\n",
       " <h3>Мартышкин труд?</h3>,\n",
       " <h3>Длинный гамма-всплеск связали с аномально мощной гигантской вспышкой внегалактического магнитара</h3>,\n",
       " <h3>Изотопы цинка указали на конкуренцию между мегалодоном и большой белой акулой</h3>,\n",
       " <h3>Спокойные массивные галактики подтвердили подавление звездообразования за счет активного ядра</h3>,\n",
       " <h3>Американский суперкомпьютер первым преодолел экзафлопсный рубеж</h3>,\n",
       " <h3>Трехдневный трансплантат печени подарил реципиенту минимум год жизни</h3>,\n",
       " <h3>Рентгеновский телескоп IXPE впервые измерил поляризацию излучения магнитара</h3>,\n",
       " <h3>Тонко закручено</h3>,\n",
       " <h3>Там дыра</h3>,\n",
       " <h3><a href=\"/news/2022/06/01/CaOH-in-MOT\">Физики поймали в магнитооптическую ловушку многоатомные молекулы</a></h3>,\n",
       " <h3><a href=\"/news/2022/05/27/Self-Stopping-of-Light\">Российские и немецкие теоретики предсказали самоостановку света в нелинейной среде</a></h3>,\n",
       " <h3><a href=\"/news/2022/06/01/weak-phase-dif\">Физики напрямую измерили разность фаз слабого взаимодействия у дважды странных барионов</a></h3>,\n",
       " <h3><a href=\"/news/2022/05/28/aquaporines\">Японские химики создали синтетический аналог аквапоринов</a></h3>,\n",
       " <h3><a href=\"/news/2022/05/26/ia-sn-in-meteorite\">Геохимики впервые нашли в метеорите вещество сверхновой типа Ia</a></h3>,\n",
       " <h3><a href=\"/news/2022/05/30/water-SPP\">Физики получили водный аналог поверхностного плазмон-поляритона</a></h3>,\n",
       " <h3><a href=\"/news/2022/05/31/ixpe-polarization-magnetar\">Рентгеновский телескоп IXPE впервые измерил поляризацию излучения магнитара</a></h3>,\n",
       " <h3><a href=\"/news/2022/05/27/fossil-biomolecules\">Ископаемые биомолекулы указали на теплокровность большинства динозавров</a></h3>,\n",
       " <h3><a href=\"/news/2022/05/24/sweet-mice\">Беременные и кормящие самки мышей отпугнули самцов мочой с банановым запахом</a></h3>,\n",
       " <h3><a href=\"/news/2022/05/23/first-farmers\">Палеогенетики уточнили происхождение первых земледельцев Европы</a></h3>]"
      ]
     },
     "execution_count": 6,
     "metadata": {},
     "output_type": "execute_result"
    }
   ],
   "source": [
    "soup.find_all(\"h3\")"
   ]
  },
  {
   "cell_type": "markdown",
   "metadata": {},
   "source": [
    "Каждый элемент полученного списка – объект типа «элемент beautifulsoup», в который вложено некоторое содержимое, например, текст или новый код на HTML."
   ]
  },
  {
   "cell_type": "markdown",
   "metadata": {},
   "source": [
    "***\n",
    "### Задание 2\n",
    "\n",
    "Сохраните полученные выше результаты в список `h3`. Запросите тип первого элемента списка с помощью функции `type()`."
   ]
  },
  {
   "cell_type": "code",
   "execution_count": 7,
   "metadata": {},
   "outputs": [
    {
     "data": {
      "text/plain": [
       "bs4.element.Tag"
      ]
     },
     "execution_count": 7,
     "metadata": {},
     "output_type": "execute_result"
    }
   ],
   "source": [
    "h3 = soup.find_all(\"h3\")\n",
    "type(h3[0])"
   ]
  },
  {
   "cell_type": "markdown",
   "metadata": {},
   "source": [
    "### Задание 3\n",
    "\n",
    "Найдите все ссылки на странице и сохраните их в список `raw_links`.\n",
    "*** "
   ]
  },
  {
   "cell_type": "code",
   "execution_count": 8,
   "metadata": {},
   "outputs": [],
   "source": [
    "raw_links = soup.find_all(\"a\")"
   ]
  },
  {
   "cell_type": "markdown",
   "metadata": {},
   "source": [
    "Возьмём ссылку на рубрику *Астрономия* и посмотрим не неё, она пятая в полученном списке:"
   ]
  },
  {
   "cell_type": "code",
   "execution_count": 9,
   "metadata": {},
   "outputs": [
    {
     "data": {
      "text/plain": [
       "<a class=\"\" href=\"/rubric/astronomy\">Астрономия</a>"
      ]
     },
     "execution_count": 9,
     "metadata": {},
     "output_type": "execute_result"
    }
   ],
   "source": [
    "raw_links[4]"
   ]
  },
  {
   "cell_type": "markdown",
   "metadata": {},
   "source": [
    "С самим тэгом работать не очень интересно, нас интересует его содержимое. Запросим текст внутри тэга:"
   ]
  },
  {
   "cell_type": "code",
   "execution_count": 10,
   "metadata": {},
   "outputs": [
    {
     "data": {
      "text/plain": [
       "'Астрономия'"
      ]
     },
     "execution_count": 10,
     "metadata": {},
     "output_type": "execute_result"
    }
   ],
   "source": [
    "raw_links[4].text"
   ]
  },
  {
   "cell_type": "code",
   "execution_count": null,
   "metadata": {},
   "outputs": [],
   "source": [
    "# представление элемента изнутри – как словарь\n",
    "# a = {\"class\" : \"\", \"href\" : \"/rubric/astronomy\"}"
   ]
  },
  {
   "cell_type": "markdown",
   "metadata": {},
   "source": [
    "А теперь извлечём саму ссылку – значение атрибута `href`:"
   ]
  },
  {
   "cell_type": "code",
   "execution_count": 11,
   "metadata": {},
   "outputs": [
    {
     "data": {
      "text/plain": [
       "'/rubric/astronomy'"
      ]
     },
     "execution_count": 11,
     "metadata": {},
     "output_type": "execute_result"
    }
   ],
   "source": [
    "raw_links[4][\"href\"]"
   ]
  },
  {
   "cell_type": "markdown",
   "metadata": {},
   "source": [
    "Или так:"
   ]
  },
  {
   "cell_type": "code",
   "execution_count": 12,
   "metadata": {},
   "outputs": [
    {
     "data": {
      "text/plain": [
       "'/rubric/astronomy'"
      ]
     },
     "execution_count": 12,
     "metadata": {},
     "output_type": "execute_result"
    }
   ],
   "source": [
    "raw_links[4].get(\"href\")"
   ]
  },
  {
   "cell_type": "markdown",
   "metadata": {},
   "source": [
    "Если бы мы захотели вывести все ссылки на экран, нам понадобился бы цикл `for`:"
   ]
  },
  {
   "cell_type": "code",
   "execution_count": 13,
   "metadata": {},
   "outputs": [
    {
     "name": "stdout",
     "output_type": "stream",
     "text": [
      "#\n",
      "/\n",
      "#\n",
      "#\n",
      "/rubric/astronomy\n",
      "/rubric/physics\n",
      "/rubric/biology\n",
      "/rubric/robots-drones\n",
      "/theme/bookshelf\n",
      "/theme/Courses\n",
      "/theme/coronavirus-history\n",
      "/theme/offline\n",
      "/\n",
      "#\n",
      "/rubric/astronomy\n",
      "/rubric/physics\n",
      "/rubric/biology\n",
      "/rubric/robots-drones\n",
      "#\n",
      "/theme/bookshelf\n",
      "/theme/Courses\n",
      "/theme/coronavirus-history\n",
      "/theme/offline\n",
      "https://nplus1.ru/blog/2022/05/27/prehistoric-planet-forests\n",
      "https://nplus1.ru/blog/2022/05/27/prehistoric-planet-forests\n",
      "https://nplus1.ru/blog/2022/05/27/tales-from-the-edge-of-the-self\n",
      "https://nplus1.ru/blog/2022/05/26/prehistoric-planet-ice-worlds\n",
      "https://nplus1.ru/blog/2022/05/25/rebel-cell\n",
      "https://nplus1.ru/blog/2022/05/25/prehistoric-planet-freshwater\n",
      "https://nplus1.ru/blog/2022/05/24/prehistoric-planet-deserts\n",
      "https://nplus1.ru/blog/2022/05/23/prehistoric-planet\n",
      "https://nplus1.ru/blog/2022/05/23/some-assembly-required\n",
      "https://nplus1.ru/blog/2022/05/19/chemical-laboratory\n",
      "https://nplus1.ru/blog/2022/05/31/jellyfish-age-backwards\n",
      "/news/2022/06/01/voyages-of-termites\n",
      "/news/2022/06/01/weak-phase-dif\n",
      "/news/2022/06/01/ardales\n",
      "/news/2022/06/01/it-has-begun\n",
      "/news/2022/06/01/grand-theft-exoplanet\n",
      "/news/2022/06/01/CaOH-in-MOT\n",
      "/news/2022/06/01/kavli2022\n",
      "/material/2022/05/25/biodiversity-10\n",
      "/rubric/ecology\n",
      "/news/2022/06/01/lower-paleolithic\n",
      "/news/2022/06/01/egyptian-hollow-casting\n",
      "/news/2022/06/01/yakutia-sukachevae\n",
      "/news/2022/05/31/ingenuity-mars-winter\n",
      "/news/2022/05/31/sofia-r-aqua\n",
      "/news/2022/05/31/askap-strange-signal\n",
      "/blog/2022/05/31/jellyfish-age-backwards\n",
      "/blog/2022/05/27/tales-from-the-edge-of-the-self\n",
      "/material/2022/05/25/tequila-car-DIY\n",
      "/rubric/partners\n",
      "/theme/diy\n",
      "/material/2022/05/20/monkeypox-explained\n",
      "/rubric/medicine\n",
      "/news/2022/05/31/grb-binary-ns-to-magnetar\n",
      "/news/2022/05/31/megalodon-extinction\n",
      "/news/2022/05/31/smbh-in-dying-galaxies\n",
      "/news/2022/05/31/frontier\n",
      "/news/2022/05/31/3-days-liver-transplantation\n",
      "/news/2022/05/31/ixpe-polarization-magnetar\n",
      "/blog/2022/05/27/prehistoric-planet-forests\n",
      "/blog/2022/05/26/prehistoric-planet-ice-worlds\n",
      "/material/2022/05/20/magic-graphene\n",
      "/rubric/physics\n",
      "/material/2022/05/13/blackholeshadow\n",
      "/rubric/astronomy\n",
      "/news/2022/06/01/CaOH-in-MOT\n",
      "/news/2022/05/27/Self-Stopping-of-Light\n",
      "/news/2022/06/01/weak-phase-dif\n",
      "/news/2022/05/28/aquaporines\n",
      "/news/2022/05/26/ia-sn-in-meteorite\n",
      "/news/2022/05/30/water-SPP\n",
      "/news/2022/05/31/ixpe-polarization-magnetar\n",
      "/news/2022/05/27/fossil-biomolecules\n",
      "/news/2022/05/24/sweet-mice\n",
      "/news/2022/05/23/first-farmers\n",
      "https://nplus1.ru/blog/2022/05/27/prehistoric-planet-forests\n",
      "https://nplus1.ru/blog/2022/05/27/prehistoric-planet-forests\n",
      "https://nplus1.ru/blog/2022/05/27/tales-from-the-edge-of-the-self\n",
      "https://nplus1.ru/blog/2022/05/26/prehistoric-planet-ice-worlds\n",
      "https://nplus1.ru/blog/2022/05/25/rebel-cell\n",
      "https://nplus1.ru/blog/2022/05/25/prehistoric-planet-freshwater\n",
      "https://nplus1.ru/blog/2022/05/24/prehistoric-planet-deserts\n",
      "https://nplus1.ru/blog/2022/05/23/prehistoric-planet\n",
      "https://nplus1.ru/blog/2022/05/23/some-assembly-required\n",
      "https://nplus1.ru/blog/2022/05/19/chemical-laboratory\n",
      "https://nplus1.ru/blog/2022/05/31/jellyfish-age-backwards\n",
      "/\n",
      "/about\n",
      "https://nplus.pro\n",
      "/adv\n",
      "/rules\n",
      "/vacancy\n",
      "/blog/2022/04/01/samotek\n",
      "/difficult\n",
      "mailto:info@nplus1.ru\n",
      "https://nplus1.ru/personal-data-policy\n",
      "https://t.me/nplusone\n",
      "http://vk.com/nplusone\n",
      "https://twitter.com/nplusodin\n",
      "https://ok.ru/nplus1\n",
      "https://soundcloud.com/nplus_1\n",
      "/rss\n"
     ]
    }
   ],
   "source": [
    "for link in raw_links:\n",
    "    print(link[\"href\"])"
   ]
  },
  {
   "cell_type": "markdown",
   "metadata": {},
   "source": [
    "***\n",
    "\n",
    "### Задание 4\n",
    "\n",
    "Для дальнейшей работы нам нужны только ссылки на новости, то есть те ссылки, которые начинаются с `/news`. Напишите код, который извлекает из списка `raw_links` только те тэги, которые содержат ссылки на новости, и сохраняет в список `news` сами ссылки в виде текста, без тэгов."
   ]
  },
  {
   "cell_type": "code",
   "execution_count": 14,
   "metadata": {},
   "outputs": [],
   "source": [
    "news = []\n",
    "for link in raw_links:\n",
    "    if \"/news/\" in link[\"href\"]:\n",
    "        news.append(link[\"href\"])"
   ]
  },
  {
   "cell_type": "markdown",
   "metadata": {},
   "source": [
    "### Задание 5\n",
    "\n",
    "Ссылки на новости в списке `news` – относительные, по ним нельзя сразу перейти на страницу новости, а значит, нельзя передать Python для дальнейшей работы. Сделайте ссылки абсолютными – доклейте к каждой ссылке в `news` ссылку на главную страницу сайта `https://nplus1.ru` и сохраните полученные результаты в список `links_full`.\n",
    "\n",
    "***"
   ]
  },
  {
   "cell_type": "code",
   "execution_count": 17,
   "metadata": {},
   "outputs": [
    {
     "name": "stdout",
     "output_type": "stream",
     "text": [
      "['https://nplus1.ru/news/2022/06/01/voyages-of-termites', 'https://nplus1.ru/news/2022/06/01/weak-phase-dif', 'https://nplus1.ru/news/2022/06/01/ardales', 'https://nplus1.ru/news/2022/06/01/it-has-begun', 'https://nplus1.ru/news/2022/06/01/grand-theft-exoplanet', 'https://nplus1.ru/news/2022/06/01/CaOH-in-MOT', 'https://nplus1.ru/news/2022/06/01/kavli2022', 'https://nplus1.ru/news/2022/06/01/lower-paleolithic', 'https://nplus1.ru/news/2022/06/01/egyptian-hollow-casting', 'https://nplus1.ru/news/2022/06/01/yakutia-sukachevae', 'https://nplus1.ru/news/2022/05/31/ingenuity-mars-winter', 'https://nplus1.ru/news/2022/05/31/sofia-r-aqua', 'https://nplus1.ru/news/2022/05/31/askap-strange-signal', 'https://nplus1.ru/news/2022/05/31/grb-binary-ns-to-magnetar', 'https://nplus1.ru/news/2022/05/31/megalodon-extinction', 'https://nplus1.ru/news/2022/05/31/smbh-in-dying-galaxies', 'https://nplus1.ru/news/2022/05/31/frontier', 'https://nplus1.ru/news/2022/05/31/3-days-liver-transplantation', 'https://nplus1.ru/news/2022/05/31/ixpe-polarization-magnetar', 'https://nplus1.ru/news/2022/06/01/CaOH-in-MOT', 'https://nplus1.ru/news/2022/05/27/Self-Stopping-of-Light', 'https://nplus1.ru/news/2022/06/01/weak-phase-dif', 'https://nplus1.ru/news/2022/05/28/aquaporines', 'https://nplus1.ru/news/2022/05/26/ia-sn-in-meteorite', 'https://nplus1.ru/news/2022/05/30/water-SPP', 'https://nplus1.ru/news/2022/05/31/ixpe-polarization-magnetar', 'https://nplus1.ru/news/2022/05/27/fossil-biomolecules', 'https://nplus1.ru/news/2022/05/24/sweet-mice', 'https://nplus1.ru/news/2022/05/23/first-farmers']\n"
     ]
    }
   ],
   "source": [
    "links_full = [\"https://nplus1.ru\" + link for link in news]\n",
    "print(links_full)"
   ]
  },
  {
   "cell_type": "markdown",
   "metadata": {},
   "source": [
    "Теперь выберем первую ссылку и напишем код, который будет сгружать информацию о новости по её ссылке. Так как все страницы с новостями на этом сайте строятся по единой схеме, если мы научимся выгружать данные по одной новости, мы сможем повторить это для всех новостей!"
   ]
  },
  {
   "cell_type": "code",
   "execution_count": 18,
   "metadata": {},
   "outputs": [],
   "source": [
    "my_link = links_full[0]"
   ]
  },
  {
   "cell_type": "markdown",
   "metadata": {},
   "source": [
    "Подключимся к странице этой новости, выгрузим её исходный код и превратим в объект `BeautifulSoup`:"
   ]
  },
  {
   "cell_type": "code",
   "execution_count": 19,
   "metadata": {},
   "outputs": [],
   "source": [
    "my_page = requests.get(my_link)\n",
    "my_soup = BeautifulSoup(my_page.text)"
   ]
  },
  {
   "cell_type": "markdown",
   "metadata": {},
   "source": [
    "Если мы посмотрим на исходный код страницы, мы заметим, что общая информация по новости хранится в тэгах `<meta>`:"
   ]
  },
  {
   "cell_type": "code",
   "execution_count": 20,
   "metadata": {},
   "outputs": [
    {
     "data": {
      "text/plain": [
       "[<meta charset=\"utf-8\"/>,\n",
       " <meta content=\"ie=edge\" http-equiv=\"x-ua-compatible\"/>,\n",
       " <meta content=\"width=device-width, initial-scale=1\" name=\"viewport\"/>,\n",
       " <meta content=\"yes\" name=\"apple-mobile-web-app-capable\"/>,\n",
       " <meta content=\"black\" name=\"apple-mobile-web-app-status-bar-style\"/>,\n",
       " <meta content=\"7991d7eb02d759f05b9050e111a7e3eb\" name=\"wmail-verification\"/>,\n",
       " <meta content=\"2022-06-01\" itemprop=\"datePublished\"/>,\n",
       " <meta content=\"Семён Морозов\" name=\"mediator_author\"/>,\n",
       " <meta content=\"Термиты переплывали океаны в стволах или ветках\" name=\"description\"/>,\n",
       " <meta content=\"Семён Морозов\" name=\"author\"/>,\n",
       " <meta content=\"\" name=\"copyright\"/>,\n",
       " <meta content=\"Суходревесные термиты около 40 раз пересекли океаны за последние 50 миллионов лет\" property=\"og:title\"/>,\n",
       " <meta content=\"https://nplus1.ru/images/2022/06/01/62c68c010b4cc8a324e956b5939c4af5.jpg\" property=\"og:image\"/>,\n",
       " <meta content=\"https://nplus1.ru/news/2022/06/01/voyages-of-termites\" property=\"og:url\"/>,\n",
       " <meta content=\"Термиты переплывали океаны в стволах или ветках\" property=\"og:description\"/>,\n",
       " <meta content=\"summary_large_image\" name=\"twitter:card\"/>,\n",
       " <meta content=\"@nplusodin\" name=\"twitter:site\"/>,\n",
       " <meta content=\"Суходревесные термиты около 40 раз пересекли океаны за последние 50 миллионов лет\" name=\"twitter:title\"/>,\n",
       " <meta content=\"Термиты переплывали океаны в стволах или ветках\" name=\"twitter:description\"/>,\n",
       " <meta content=\"https://nplus1.ru/images/2022/06/01/62c68c010b4cc8a324e956b5939c4af5.jpg\" name=\"twitter:image\"/>,\n",
       " <meta content=\"8c90b02c84ac3b72\" name=\"yandex-verification\"/>,\n",
       " <meta content=\"b419949322895fc9106e24ed01be58ac\" name=\"pmail-verification\"/>]"
      ]
     },
     "execution_count": 20,
     "metadata": {},
     "output_type": "execute_result"
    }
   ],
   "source": [
    "my_soup.find_all(\"meta\")"
   ]
  },
  {
   "cell_type": "markdown",
   "metadata": {},
   "source": [
    "Как выбрать только те части, которые нам могут быть интересны? Например, части HTML с автором статьи, датой её публикации, заголовком и кратким содержанием? Выполнить более точный поиск с учётом конкретных атрибутов и их значений. Например, мы видим, что имя автора находится в тэге `<meta>` с атрибутом `name`, равным `mediator_author`:"
   ]
  },
  {
   "cell_type": "code",
   "execution_count": 21,
   "metadata": {},
   "outputs": [
    {
     "data": {
      "text/plain": [
       "[<meta content=\"Семён Морозов\" name=\"mediator_author\"/>]"
      ]
     },
     "execution_count": 21,
     "metadata": {},
     "output_type": "execute_result"
    }
   ],
   "source": [
    "my_soup.find_all(\"meta\", {\"name\" : \"mediator_author\"})"
   ]
  },
  {
   "cell_type": "markdown",
   "metadata": {},
   "source": [
    "Отлично, мы вышли на автора статьи! Только хотелось бы получить его имя в виде «чистого» текста. Извлечём из полученного списка один единственный элемент и заберём из него значение атрибута `content` (вспомните про работу с `href` ранее):"
   ]
  },
  {
   "cell_type": "code",
   "execution_count": 22,
   "metadata": {},
   "outputs": [
    {
     "data": {
      "text/plain": [
       "'Семён Морозов'"
      ]
     },
     "execution_count": 22,
     "metadata": {},
     "output_type": "execute_result"
    }
   ],
   "source": [
    "my_soup.find_all(\"meta\", {\"name\" : \"mediator_author\"})[0].get(\"content\")"
   ]
  },
  {
   "cell_type": "code",
   "execution_count": 23,
   "metadata": {},
   "outputs": [
    {
     "data": {
      "text/plain": [
       "'Семён Морозов'"
      ]
     },
     "execution_count": 23,
     "metadata": {},
     "output_type": "execute_result"
    }
   ],
   "source": [
    "my_soup.find_all(\"meta\", {\"name\" : \"mediator_author\"})[0][\"content\"] "
   ]
  },
  {
   "cell_type": "code",
   "execution_count": 24,
   "metadata": {},
   "outputs": [],
   "source": [
    "author = my_soup.find_all(\"meta\", \n",
    "                 {\"name\" : \"mediator_author\"})[0].get(\"content\")"
   ]
  },
  {
   "cell_type": "markdown",
   "metadata": {},
   "source": [
    "***\n",
    "### Задание 6\n",
    "\n",
    "Аналогичным образом извлеките дату публикации новости, заголовок и краткое содержание (описание) новости и сохраните их в переменные `date`, `title`, `desc` соответственно. \n",
    "\n",
    "***"
   ]
  },
  {
   "cell_type": "code",
   "execution_count": 25,
   "metadata": {},
   "outputs": [],
   "source": [
    "# find находит только первое совпадение (актуально, если оно 100% единственное)\n",
    "# find_all находит все совпадения и всегда возвращает список элементов\n",
    "\n",
    "date = my_soup.find(\"meta\", \n",
    "                 {\"itemprop\" : \"datePublished\"})[\"content\"]\n",
    "title = my_soup.find(\"title\").text\n",
    "desc = my_soup.find(\"meta\", \n",
    "                        {\"name\" : \"description\"})[\"content\"] "
   ]
  },
  {
   "cell_type": "markdown",
   "metadata": {},
   "source": [
    "Какие ещё характеристики новости нам могут пригодиться (сам текст пока не трогаем)? Время публикации, рубрики и сложность новости. Если пролистаем исходный код до начала самой новости, мы обнаружим перед текстом три таблицы, три абзаца `<p>` с классом `table`. Все они находятся в разделе `<div>` с классом `tables`. "
   ]
  },
  {
   "cell_type": "markdown",
   "metadata": {},
   "source": [
    "***\n",
    "### Задание 7\n",
    "\n",
    "Извлеките время публикации новости, рубрики и сложность новости и сохраните их в переменные `time`, `rubs`,  `diffc` соответственно.\n",
    "***"
   ]
  },
  {
   "cell_type": "code",
   "execution_count": 26,
   "metadata": {},
   "outputs": [],
   "source": [
    "div = my_soup.find(\"div\", {\"class\" : \"tables\"})\n",
    "tabs = div.find_all(\"p\")\n",
    "\n",
    "rubs_raw = tabs[0].find_all(\"a\")\n",
    "rubs = [r.text for r in rubs_raw]\n",
    "rubs_str = \", \".join(rubs)\n",
    "\n",
    "time = tabs[1].find(\"span\").text\n",
    "diffc = tabs[2].find(\"span\", {\"class\" : \"difficult-value\"}).text"
   ]
  },
  {
   "cell_type": "markdown",
   "metadata": {},
   "source": [
    "ИТОГИ:"
   ]
  },
  {
   "cell_type": "code",
   "execution_count": 27,
   "metadata": {},
   "outputs": [
    {
     "name": "stdout",
     "output_type": "stream",
     "text": [
      "Семён Морозов\n",
      "2022-06-01\n",
      "Суходревесные термиты около 40 раз пересекли океаны за последние 50 миллионов лет\n",
      "Термиты переплывали океаны в стволах или ветках\n",
      "Зоология\n",
      "21:49\n",
      "3.6\n"
     ]
    }
   ],
   "source": [
    "print(author, date, title, desc, sep = \"\\n\")\n",
    "print(rubs_str, time, diffc, sep = \"\\n\")"
   ]
  }
 ],
 "metadata": {
  "kernelspec": {
   "display_name": "Python 3",
   "language": "python",
   "name": "python3"
  },
  "language_info": {
   "codemirror_mode": {
    "name": "ipython",
    "version": 3
   },
   "file_extension": ".py",
   "mimetype": "text/x-python",
   "name": "python",
   "nbconvert_exporter": "python",
   "pygments_lexer": "ipython3",
   "version": "3.7.4"
  }
 },
 "nbformat": 4,
 "nbformat_minor": 2
}

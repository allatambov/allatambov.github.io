{
 "cells": [
  {
   "cell_type": "markdown",
   "metadata": {},
   "source": [
    "# Программирование на Python \n",
    "\n",
    "*Алла Тамбовцева, НИУ ВШЭ*\n",
    "\n",
    "## Практикум 8. Массивы NumPy и датафреймы Pandas\n",
    "\n",
    "Почти все задачи снабжены тестами – ячейками со строками, содержащими конструкцию `assert`. Алгоритм работы с тестами такой: пишете код с решением, запускаете его, затем запускаете ячейку с тестами. Если после запуска ячейки с тестами ничего не произошло, ваш код с решением верный, если на экране появилось сообщение об ошибке, код неверный. \n",
    "\n",
    "Во всех заданиях необходимо называть объекты так, как указано в условии, иначе решение будет считаться ошибочным (например, для Python вообще и для `assert` в частности объекты `n` и `N` – не одно и то же)."
   ]
  },
  {
   "cell_type": "markdown",
   "metadata": {},
   "source": [
    "## Часть 1: датафреймы из списков\n",
    "\n",
    "Дан список списков `data`. На первом месте указывается имя героя на русском (`ru_name`), затем имя на английском (`en_name`), вид героя (`class`), индекс веселости, измеряется в «дейлах» (`cheer`)."
   ]
  },
  {
   "cell_type": "code",
   "execution_count": 1,
   "metadata": {},
   "outputs": [],
   "source": [
    "data = [[\"Вжик\", \"Zipper the Fly\", \"fly\", \"0.7\"],\n",
    "[\"Гайка\", \"Gadget Hackwrench\", \"mouse\", None],\n",
    "[\"Дейл\", \"Dale\", \"chipmunk\", \"1\"],\n",
    "[\"Рокфор\", \"Monterey Jack\", \"mouse\", \"0.8\"],\n",
    "[\"Чип\", \"Chip\", \"chipmunk\", \"0.2\"]] "
   ]
  },
  {
   "cell_type": "markdown",
   "metadata": {},
   "source": [
    "### Задание 1\n",
    "\n",
    "На основе этого списка создайте датафрейм `df` так, чтобы каждому показателю (`ru_name`, `en_name`, `class`, `cheer`) соответствовал один столбец датафрейма. Проверьте, что последний столбец является числовым. Если нет, приведите его к типу *float*.\n",
    "\n",
    "*В этом задании и далее добавлять текстовые названия столбцов нельзя, нужно обращаться к ним исключительно по индексу.*"
   ]
  },
  {
   "cell_type": "code",
   "execution_count": 2,
   "metadata": {
    "deletable": false,
    "nbgrader": {
     "checksum": "de185c678bc9bb67e56d679fa2a81302",
     "grade": false,
     "grade_id": "cell-b001422c1e6388c8",
     "locked": false,
     "schema_version": 3,
     "solution": true,
     "task": false
    }
   },
   "outputs": [],
   "source": [
    "import pandas as pd\n",
    "df = pd.DataFrame(data)"
   ]
  },
  {
   "cell_type": "code",
   "execution_count": 3,
   "metadata": {},
   "outputs": [
    {
     "name": "stdout",
     "output_type": "stream",
     "text": [
      "<class 'pandas.core.frame.DataFrame'>\n",
      "RangeIndex: 5 entries, 0 to 4\n",
      "Data columns (total 4 columns):\n",
      "0    5 non-null object\n",
      "1    5 non-null object\n",
      "2    5 non-null object\n",
      "3    4 non-null object\n",
      "dtypes: object(4)\n",
      "memory usage: 288.0+ bytes\n"
     ]
    }
   ],
   "source": [
    "# у последнего столбца тип object, не float\n",
    "\n",
    "df.info() "
   ]
  },
  {
   "cell_type": "code",
   "execution_count": 4,
   "metadata": {},
   "outputs": [],
   "source": [
    "# исправляем\n",
    "\n",
    "df[3] = df[3].astype(float)"
   ]
  },
  {
   "cell_type": "code",
   "execution_count": 5,
   "metadata": {
    "deletable": false,
    "nbgrader": {
     "checksum": "3c6fece7cd5bd0d1f2eb287f61c6c692",
     "grade": true,
     "grade_id": "p1",
     "locked": true,
     "points": 1,
     "schema_version": 3,
     "solution": false,
     "task": false
    }
   },
   "outputs": [],
   "source": [
    "assert type(df) == pd.core.frame.DataFrame, \"Объект df не является датафреймом\"\n",
    "assert df.shape == (5, 4), \"Неверное число строк и столбцов\"\n",
    "assert df.dtypes.values[-1] == float, \"Последний столбец не имеет тип float\""
   ]
  },
  {
   "cell_type": "markdown",
   "metadata": {},
   "source": [
    "### Задание 2\n",
    "\n",
    "Сохраните в переменную `N` число строк датафрейма `df`. Это должно быть одно число."
   ]
  },
  {
   "cell_type": "code",
   "execution_count": 6,
   "metadata": {
    "deletable": false,
    "nbgrader": {
     "checksum": "8959f73d46255b3d7227dc27078ec410",
     "grade": false,
     "grade_id": "cell-076760ba9b48e5da",
     "locked": false,
     "schema_version": 3,
     "solution": true,
     "task": false
    }
   },
   "outputs": [],
   "source": [
    "N = df.shape[0]"
   ]
  },
  {
   "cell_type": "code",
   "execution_count": 7,
   "metadata": {
    "deletable": false,
    "nbgrader": {
     "checksum": "b6c7df917fada18b8ffe4bdfc3362287",
     "grade": true,
     "grade_id": "p2",
     "locked": true,
     "points": 1,
     "schema_version": 3,
     "solution": false,
     "task": false
    }
   },
   "outputs": [],
   "source": [
    "assert N == 5, \"Неверный ответ\""
   ]
  },
  {
   "cell_type": "markdown",
   "metadata": {},
   "source": [
    "### Задание 3\n",
    "\n",
    "Сохраните в переменную `cn` число заполненных (не `NaN`) ячеек в последнем столбце."
   ]
  },
  {
   "cell_type": "code",
   "execution_count": 8,
   "metadata": {
    "deletable": false,
    "nbgrader": {
     "checksum": "eddd045ab31ac9c62561887cad1a2da0",
     "grade": false,
     "grade_id": "cell-fd0a31743bbe122c",
     "locked": false,
     "schema_version": 3,
     "solution": true,
     "task": false
    }
   },
   "outputs": [],
   "source": [
    "cn = df[3].count()"
   ]
  },
  {
   "cell_type": "code",
   "execution_count": 9,
   "metadata": {
    "deletable": false,
    "nbgrader": {
     "checksum": "26c1b4f6b3baca4ece46d10350885014",
     "grade": true,
     "grade_id": "p3",
     "locked": true,
     "points": 1,
     "schema_version": 3,
     "solution": false,
     "task": false
    }
   },
   "outputs": [],
   "source": [
    "assert cn == 4, \"Неверный ответ\""
   ]
  },
  {
   "cell_type": "markdown",
   "metadata": {},
   "source": [
    "### Задание 4\n",
    "\n",
    "Сохраните в переменную `g` значение в ячейке, которая находится на пересечении третьей строки и второго столбца."
   ]
  },
  {
   "cell_type": "code",
   "execution_count": 10,
   "metadata": {
    "deletable": false,
    "nbgrader": {
     "checksum": "4375a15cdbc53fed96b2d7748cb3ca7c",
     "grade": false,
     "grade_id": "1",
     "locked": false,
     "schema_version": 3,
     "solution": true,
     "task": false
    }
   },
   "outputs": [],
   "source": [
    "g = df.iloc[2, 1] "
   ]
  },
  {
   "cell_type": "code",
   "execution_count": 11,
   "metadata": {},
   "outputs": [],
   "source": [
    "# так как названия столбцов пока совпадают с их индексами, \n",
    "# разницы между использованием .iloc и .loc нет\n",
    "\n",
    "g = df.loc[2, 1] "
   ]
  },
  {
   "cell_type": "code",
   "execution_count": 12,
   "metadata": {
    "deletable": false,
    "nbgrader": {
     "checksum": "62bc93cc5f82baaae0a438a577562971",
     "grade": true,
     "grade_id": "p4",
     "locked": true,
     "points": 1,
     "schema_version": 3,
     "solution": false,
     "task": false
    }
   },
   "outputs": [],
   "source": [
    "assert g == 'Dale', \"Неверный ответ\""
   ]
  },
  {
   "cell_type": "markdown",
   "metadata": {},
   "source": [
    "### Задание 5\n",
    "\n",
    "Сохраните в переменную `df1` строки датафрейма `df` со второй по четвертую включительно и столбцы с первого по третий включительно."
   ]
  },
  {
   "cell_type": "code",
   "execution_count": 13,
   "metadata": {
    "deletable": false,
    "nbgrader": {
     "checksum": "677142cbc5ea10e6aff08650df415c4b",
     "grade": false,
     "grade_id": "cell-3c50641513b2f02a",
     "locked": false,
     "schema_version": 3,
     "solution": true,
     "task": false
    }
   },
   "outputs": [
    {
     "data": {
      "text/html": [
       "<div>\n",
       "<style scoped>\n",
       "    .dataframe tbody tr th:only-of-type {\n",
       "        vertical-align: middle;\n",
       "    }\n",
       "\n",
       "    .dataframe tbody tr th {\n",
       "        vertical-align: top;\n",
       "    }\n",
       "\n",
       "    .dataframe thead th {\n",
       "        text-align: right;\n",
       "    }\n",
       "</style>\n",
       "<table border=\"1\" class=\"dataframe\">\n",
       "  <thead>\n",
       "    <tr style=\"text-align: right;\">\n",
       "      <th></th>\n",
       "      <th>0</th>\n",
       "      <th>1</th>\n",
       "      <th>2</th>\n",
       "    </tr>\n",
       "  </thead>\n",
       "  <tbody>\n",
       "    <tr>\n",
       "      <td>1</td>\n",
       "      <td>Гайка</td>\n",
       "      <td>Gadget Hackwrench</td>\n",
       "      <td>mouse</td>\n",
       "    </tr>\n",
       "    <tr>\n",
       "      <td>2</td>\n",
       "      <td>Дейл</td>\n",
       "      <td>Dale</td>\n",
       "      <td>chipmunk</td>\n",
       "    </tr>\n",
       "    <tr>\n",
       "      <td>3</td>\n",
       "      <td>Рокфор</td>\n",
       "      <td>Monterey Jack</td>\n",
       "      <td>mouse</td>\n",
       "    </tr>\n",
       "  </tbody>\n",
       "</table>\n",
       "</div>"
      ],
      "text/plain": [
       "        0                  1         2\n",
       "1   Гайка  Gadget Hackwrench     mouse\n",
       "2    Дейл               Dale  chipmunk\n",
       "3  Рокфор      Monterey Jack     mouse"
      ]
     },
     "execution_count": 13,
     "metadata": {},
     "output_type": "execute_result"
    }
   ],
   "source": [
    "# а тут есть разница\n",
    "# в .iloc правый конец среза исключается \n",
    "# (обычные числовые срезы)\n",
    "\n",
    "df.iloc[1:4, 0:3]"
   ]
  },
  {
   "cell_type": "code",
   "execution_count": 14,
   "metadata": {},
   "outputs": [],
   "source": [
    "# в .loc правый конец среза не исключается\n",
    "\n",
    "df1 = df.loc[1:3, 0:2]"
   ]
  },
  {
   "cell_type": "code",
   "execution_count": 15,
   "metadata": {
    "deletable": false,
    "nbgrader": {
     "checksum": "cd0115e1bd63a12bb67855dd1c1291ed",
     "grade": true,
     "grade_id": "p5",
     "locked": true,
     "points": 1,
     "schema_version": 3,
     "solution": false,
     "task": false
    }
   },
   "outputs": [],
   "source": [
    "assert df1.shape == (3, 3), \"Неверное число строк и столбцов\"\n",
    "assert df1[1].values[-2] == \"Dale\", \"Выбраны не те строки или столбцы\""
   ]
  },
  {
   "cell_type": "markdown",
   "metadata": {},
   "source": [
    "### Задание 6\n",
    "\n",
    "Присвойте столбцам датафрейма `df` следующие названия: `ru_name`, `en_name`, `class`, `cheer`."
   ]
  },
  {
   "cell_type": "code",
   "execution_count": 16,
   "metadata": {
    "deletable": false,
    "nbgrader": {
     "checksum": "4eb8d45ceca6124fd95ad4f4c92e224b",
     "grade": false,
     "grade_id": "cell-3c08fd1a1b519826",
     "locked": false,
     "schema_version": 3,
     "solution": true,
     "task": false
    }
   },
   "outputs": [],
   "source": [
    "df.columns = [\"ru_name\", \"en_name\", \"class\", \"cheer\"] "
   ]
  },
  {
   "cell_type": "code",
   "execution_count": 17,
   "metadata": {
    "deletable": false,
    "nbgrader": {
     "checksum": "178b09b4fa47f882af8beb42303b38bf",
     "grade": true,
     "grade_id": "p6",
     "locked": true,
     "points": 1,
     "schema_version": 3,
     "solution": false,
     "task": false
    }
   },
   "outputs": [],
   "source": [
    "assert sum(df.T.index == [\"ru_name\", \"en_name\", \"class\", \"cheer\"]) == 4, \"Неверно\""
   ]
  },
  {
   "cell_type": "markdown",
   "metadata": {},
   "source": [
    "### Задание 7\n",
    "\n",
    "Добавьте в датафрейм `df` столбец `logcheer`, который содержит логарифмированные значения `cheer` (если в `cheer` встречается `NaN`, то и в `logcheer` тоже)."
   ]
  },
  {
   "cell_type": "code",
   "execution_count": 18,
   "metadata": {
    "deletable": false,
    "nbgrader": {
     "checksum": "4ddcf89cf44bbd9a8e8d60084850502e",
     "grade": false,
     "grade_id": "cell-8c708e064f28b2fa",
     "locked": false,
     "schema_version": 3,
     "solution": true,
     "task": false
    }
   },
   "outputs": [],
   "source": [
    "# log() из math применяется только к одному числу,\n",
    "# log() из numpy можно применять сразу к списку/массиву/последовательности\n",
    "\n",
    "import numpy as np\n",
    "df[\"logcheer\"] = np.log(df[\"cheer\"]) "
   ]
  },
  {
   "cell_type": "code",
   "execution_count": 19,
   "metadata": {
    "deletable": false,
    "nbgrader": {
     "checksum": "50318d14fcd86d1b57d6bfc8461f0188",
     "grade": true,
     "grade_id": "p7",
     "locked": true,
     "points": 1,
     "schema_version": 3,
     "solution": false,
     "task": false
    }
   },
   "outputs": [],
   "source": [
    "import math\n",
    "assert math.isclose(df[\"logcheer\"].values[-2], -0.22314, abs_tol = 1e-5),\"Неверно\"\n",
    "assert math.isnan(df[\"logcheer\"].values[-4]), \"Неверно\""
   ]
  },
  {
   "cell_type": "markdown",
   "metadata": {},
   "source": [
    "### Задание 8\n",
    "\n",
    "Сохраните массив уникальных значений столбца `class` в переменную `x`, а соответствующие им частоты (сколько раз значение встречается в столбце) — в переменную `y`. Используя полученные `x` и `y`, постройте столбиковую диаграмму, *barplot*, для `class`. Добавьте заголовок и подписи к осям."
   ]
  },
  {
   "cell_type": "code",
   "execution_count": 20,
   "metadata": {},
   "outputs": [
    {
     "data": {
      "text/plain": [
       "mouse       2\n",
       "chipmunk    2\n",
       "fly         1\n",
       "Name: class, dtype: int64"
      ]
     },
     "execution_count": 20,
     "metadata": {},
     "output_type": "execute_result"
    }
   ],
   "source": [
    "tab = df[\"class\"].value_counts() \n",
    "tab"
   ]
  },
  {
   "cell_type": "code",
   "execution_count": 21,
   "metadata": {},
   "outputs": [],
   "source": [
    "x = tab.index\n",
    "y = tab.values"
   ]
  },
  {
   "cell_type": "code",
   "execution_count": 23,
   "metadata": {},
   "outputs": [],
   "source": [
    "from matplotlib import pyplot as plt"
   ]
  },
  {
   "cell_type": "code",
   "execution_count": 24,
   "metadata": {},
   "outputs": [
    {
     "data": {
      "text/plain": [
       "<BarContainer object of 3 artists>"
      ]
     },
     "execution_count": 24,
     "metadata": {},
     "output_type": "execute_result"
    },
    {
     "data": {
      "image/png": "[encoded data removed]",
      "text/plain": [
       "<Figure size 432x288 with 1 Axes>"
      ]
     },
     "metadata": {
      "needs_background": "light"
     },
     "output_type": "display_data"
    }
   ],
   "source": [
    "plt.bar(x, y)"
   ]
  },
  {
   "cell_type": "markdown",
   "metadata": {},
   "source": [
    "### Задание 9\n",
    "\n",
    "Дан список словарей `L` с результатами выгрузки 8 постов со стены сообщества НИУ ВШЭ в сети ВКонтакте (id поста, текст поста, информация по лайкам и просмотрам):"
   ]
  },
  {
   "cell_type": "code",
   "execution_count": 25,
   "metadata": {},
   "outputs": [],
   "source": [
    "L = [{'id': 53050,\n",
    "  'text': 'В рамках проекта «Социальный лифт» Вышка предоставляет льготы при поступлении абитуриентам, оказавшимся в сложных жизненных обстоятельствах и социально-экономических условиях. В 2019 году льготу получил 71 человек, а в этом году университет готов оказать поддержку уже 165 абитуриентам.\\n\\nМы поговорили с ребятами, поступившими по программе, и делимся их историями в новом видео.\\n\\nПодробнее об условиях участия, сроках и количестве мест можно прочитать по ссылке: r.hse.ru/lift',\n",
    "  'likes': {'count': 56, 'user_likes': 0, 'can_like': 1, 'can_publish': 1},\n",
    "  'views': {'count': 14370}},\n",
    " {'id': 53163,\n",
    "  'text': 'Даже в самом загруженном расписании стоит оставить немного места для заботы о себе. «Вышка для своих» делится мартовской подборкой мероприятий [club6222726|Центра психологического консультирования ВШЭ]: от хатха-йоги до групповых кинопросмотров',\n",
    "  'likes': {'count': 6, 'user_likes': 0, 'can_like': 1, 'can_publish': 1},\n",
    "  'views': {'count': 2460}},\n",
    " {'id': 53161,\n",
    "  'text': 'Начался прием заявок на соискание премии HSE Alumni Awards. 19 марта стартует открытое онлайн-голосование, которое определит шорт-листы по каждой номинации. Лауреатами премии могут стать выпускники всех кампусов Вышки.\\n\\nЗаявки принимаются до 15 марта на сайте премии: bit.ly/2TzuxXn',\n",
    "  'likes': {'count': 4, 'user_likes': 0, 'can_like': 1, 'can_publish': 1},\n",
    "  'views': {'count': 2144}},\n",
    " {'id': 53159,\n",
    "  'text': 'Вышка заняла первое место среди российских вузов по десяти предметам в рейтинге QS World University Rankings by Faculty & Subject 2020. Всего университет представлен в 19 предметных рейтингах, а по пяти из них входит в топ-100 глобального списка.\\n\\nВ этом году ВШЭ также присутствует в 4 из 5 отраслей QS, в том числе впервые в «Естественных науках»',\n",
    "  'likes': {'count': 90, 'user_likes': 0, 'can_like': 1, 'can_publish': 1},\n",
    "  'views': {'count': 7136}},\n",
    " {'id': 53136,\n",
    "  'text': 'Почему изучать космос сложно, но интересно, для чего нужно наблюдать за геокороной Земли и как вернуть престиж профессии учёного? Рассказывает преподаватель факультета физики ВШЭ Игорь Балюкин, победитель конкурса ИКИ РАН в номинации «Лучшая работа, выполненная молодыми учеными»',\n",
    "  'likes': {'count': 15, 'user_likes': 0, 'can_like': 1, 'can_publish': 1},\n",
    "  'views': {'count': 4255}},\n",
    " {'id': 53133,\n",
    "  'text': 'В феврале и начале марта сотрудники Вышки провели заключительный этап олимпиады [club154631231|«Я — профессионал»] по восьми направлениям. В соревнованиях приняли участие более 1600 студентов из 65 регионов и 212 вузов',\n",
    "  'likes': {'count': 4, 'user_likes': 0, 'can_like': 1, 'can_publish': 1},\n",
    "  'views': {'count': 3266}},\n",
    " {'id': 53132,\n",
    "  'text': 'В первый день весны на краешке Москвы прошёл зимний спортивный фестиваль [club35314658|HSE SNOW FEST], в котором приняли участие 460 человек. Горячий чай с блинами, квесты, соревнования по горным лыжам и сноуборду ждали студентов, преподавателей и выпускников Вышки',\n",
    "  'likes': {'count': 76, 'user_likes': 0, 'can_like': 1, 'can_publish': 1},\n",
    "  'views': {'count': 6847}},\n",
    " {'id': 53130,\n",
    "  'text': 'Команда [club24893373|МИЭФ] и сборная Вышки заняли первое и второе места на российском этапе «инвестиционной олимпиады» CFA Institute Research Challenge. В апреле студенты отправятся на европейский финал в Иорданию, а в случае успеха — в Нью-Йорк на глобальный финал конкурса',\n",
    "  'likes': {'count': 23, 'user_likes': 0, 'can_like': 1, 'can_publish': 1},\n",
    "  'views': {'count': 4376}}]"
   ]
  },
  {
   "cell_type": "markdown",
   "metadata": {},
   "source": [
    "Создайте на его основе датафрейм `info`"
   ]
  },
  {
   "cell_type": "code",
   "execution_count": 26,
   "metadata": {
    "deletable": false,
    "nbgrader": {
     "checksum": "6acdd08cf98dc2ed2aab3004b676d1ca",
     "grade": false,
     "grade_id": "cell-85f67229d1ddae94",
     "locked": false,
     "schema_version": 3,
     "solution": true,
     "task": false
    }
   },
   "outputs": [],
   "source": [
    "info = pd.DataFrame(L)"
   ]
  },
  {
   "cell_type": "code",
   "execution_count": 27,
   "metadata": {
    "deletable": false,
    "nbgrader": {
     "checksum": "d7756cf67b72e8f83fc16e05eee816fd",
     "grade": true,
     "grade_id": "p9",
     "locked": true,
     "points": 1,
     "schema_version": 3,
     "solution": false,
     "task": false
    }
   },
   "outputs": [],
   "source": [
    "assert info.shape == (8, 4), \"Неверное число строк или столбцов\""
   ]
  },
  {
   "cell_type": "markdown",
   "metadata": {},
   "source": [
    "### Задание 10 (2 балла)\n",
    "\n",
    "1. Добавьте в датафрейм `info` столбец `nlikes`, содержащий число лайков (`count` из `likes`) без лишних фигурных скобок и прочей информации (например, для первой строки в `info` значение в столбце `nlikes` должно быть 56). \n",
    "\n",
    "2. Добавьте в датафрейм `info` столбец `nviews`, содержащий число просмотров (`count` из `nviews`) без лишних фигурных скобок и прочей информации (например, для первой строки в `info` значение в столбце `nviews` должно быть 14370). "
   ]
  },
  {
   "cell_type": "code",
   "execution_count": 28,
   "metadata": {},
   "outputs": [],
   "source": [
    "info[\"nlikes\"] = info['likes'].apply(lambda x: x[\"count\"])\n",
    "info[\"nviews\"] = info['views'].apply(lambda x: x[\"count\"])"
   ]
  },
  {
   "cell_type": "code",
   "execution_count": 29,
   "metadata": {},
   "outputs": [
    {
     "data": {
      "text/html": [
       "<div>\n",
       "<style scoped>\n",
       "    .dataframe tbody tr th:only-of-type {\n",
       "        vertical-align: middle;\n",
       "    }\n",
       "\n",
       "    .dataframe tbody tr th {\n",
       "        vertical-align: top;\n",
       "    }\n",
       "\n",
       "    .dataframe thead th {\n",
       "        text-align: right;\n",
       "    }\n",
       "</style>\n",
       "<table border=\"1\" class=\"dataframe\">\n",
       "  <thead>\n",
       "    <tr style=\"text-align: right;\">\n",
       "      <th></th>\n",
       "      <th>id</th>\n",
       "      <th>text</th>\n",
       "      <th>likes</th>\n",
       "      <th>views</th>\n",
       "      <th>nlikes</th>\n",
       "      <th>nviews</th>\n",
       "    </tr>\n",
       "  </thead>\n",
       "  <tbody>\n",
       "    <tr>\n",
       "      <td>0</td>\n",
       "      <td>53050</td>\n",
       "      <td>В рамках проекта «Социальный лифт» Вышка предо...</td>\n",
       "      <td>{'count': 56, 'user_likes': 0, 'can_like': 1, ...</td>\n",
       "      <td>{'count': 14370}</td>\n",
       "      <td>56</td>\n",
       "      <td>14370</td>\n",
       "    </tr>\n",
       "    <tr>\n",
       "      <td>1</td>\n",
       "      <td>53163</td>\n",
       "      <td>Даже в самом загруженном расписании стоит оста...</td>\n",
       "      <td>{'count': 6, 'user_likes': 0, 'can_like': 1, '...</td>\n",
       "      <td>{'count': 2460}</td>\n",
       "      <td>6</td>\n",
       "      <td>2460</td>\n",
       "    </tr>\n",
       "    <tr>\n",
       "      <td>2</td>\n",
       "      <td>53161</td>\n",
       "      <td>Начался прием заявок на соискание премии HSE A...</td>\n",
       "      <td>{'count': 4, 'user_likes': 0, 'can_like': 1, '...</td>\n",
       "      <td>{'count': 2144}</td>\n",
       "      <td>4</td>\n",
       "      <td>2144</td>\n",
       "    </tr>\n",
       "    <tr>\n",
       "      <td>3</td>\n",
       "      <td>53159</td>\n",
       "      <td>Вышка заняла первое место среди российских вуз...</td>\n",
       "      <td>{'count': 90, 'user_likes': 0, 'can_like': 1, ...</td>\n",
       "      <td>{'count': 7136}</td>\n",
       "      <td>90</td>\n",
       "      <td>7136</td>\n",
       "    </tr>\n",
       "    <tr>\n",
       "      <td>4</td>\n",
       "      <td>53136</td>\n",
       "      <td>Почему изучать космос сложно, но интересно, дл...</td>\n",
       "      <td>{'count': 15, 'user_likes': 0, 'can_like': 1, ...</td>\n",
       "      <td>{'count': 4255}</td>\n",
       "      <td>15</td>\n",
       "      <td>4255</td>\n",
       "    </tr>\n",
       "    <tr>\n",
       "      <td>5</td>\n",
       "      <td>53133</td>\n",
       "      <td>В феврале и начале марта сотрудники Вышки пров...</td>\n",
       "      <td>{'count': 4, 'user_likes': 0, 'can_like': 1, '...</td>\n",
       "      <td>{'count': 3266}</td>\n",
       "      <td>4</td>\n",
       "      <td>3266</td>\n",
       "    </tr>\n",
       "    <tr>\n",
       "      <td>6</td>\n",
       "      <td>53132</td>\n",
       "      <td>В первый день весны на краешке Москвы прошёл з...</td>\n",
       "      <td>{'count': 76, 'user_likes': 0, 'can_like': 1, ...</td>\n",
       "      <td>{'count': 6847}</td>\n",
       "      <td>76</td>\n",
       "      <td>6847</td>\n",
       "    </tr>\n",
       "    <tr>\n",
       "      <td>7</td>\n",
       "      <td>53130</td>\n",
       "      <td>Команда [club24893373|МИЭФ] и сборная Вышки за...</td>\n",
       "      <td>{'count': 23, 'user_likes': 0, 'can_like': 1, ...</td>\n",
       "      <td>{'count': 4376}</td>\n",
       "      <td>23</td>\n",
       "      <td>4376</td>\n",
       "    </tr>\n",
       "  </tbody>\n",
       "</table>\n",
       "</div>"
      ],
      "text/plain": [
       "      id                                               text  \\\n",
       "0  53050  В рамках проекта «Социальный лифт» Вышка предо...   \n",
       "1  53163  Даже в самом загруженном расписании стоит оста...   \n",
       "2  53161  Начался прием заявок на соискание премии HSE A...   \n",
       "3  53159  Вышка заняла первое место среди российских вуз...   \n",
       "4  53136  Почему изучать космос сложно, но интересно, дл...   \n",
       "5  53133  В феврале и начале марта сотрудники Вышки пров...   \n",
       "6  53132  В первый день весны на краешке Москвы прошёл з...   \n",
       "7  53130  Команда [club24893373|МИЭФ] и сборная Вышки за...   \n",
       "\n",
       "                                               likes             views  \\\n",
       "0  {'count': 56, 'user_likes': 0, 'can_like': 1, ...  {'count': 14370}   \n",
       "1  {'count': 6, 'user_likes': 0, 'can_like': 1, '...   {'count': 2460}   \n",
       "2  {'count': 4, 'user_likes': 0, 'can_like': 1, '...   {'count': 2144}   \n",
       "3  {'count': 90, 'user_likes': 0, 'can_like': 1, ...   {'count': 7136}   \n",
       "4  {'count': 15, 'user_likes': 0, 'can_like': 1, ...   {'count': 4255}   \n",
       "5  {'count': 4, 'user_likes': 0, 'can_like': 1, '...   {'count': 3266}   \n",
       "6  {'count': 76, 'user_likes': 0, 'can_like': 1, ...   {'count': 6847}   \n",
       "7  {'count': 23, 'user_likes': 0, 'can_like': 1, ...   {'count': 4376}   \n",
       "\n",
       "   nlikes  nviews  \n",
       "0      56   14370  \n",
       "1       6    2460  \n",
       "2       4    2144  \n",
       "3      90    7136  \n",
       "4      15    4255  \n",
       "5       4    3266  \n",
       "6      76    6847  \n",
       "7      23    4376  "
      ]
     },
     "execution_count": 29,
     "metadata": {},
     "output_type": "execute_result"
    }
   ],
   "source": [
    "info"
   ]
  },
  {
   "cell_type": "code",
   "execution_count": 30,
   "metadata": {
    "deletable": false,
    "nbgrader": {
     "checksum": "63c9f30f58ba574372ae96b5e580348b",
     "grade": true,
     "grade_id": "cell-79b7e498dfb62474",
     "locked": true,
     "points": 2,
     "schema_version": 3,
     "solution": false,
     "task": false
    }
   },
   "outputs": [],
   "source": [
    "assert info.loc[3, \"nlikes\"] == 90, \"Неверное решение\"\n",
    "assert info.loc[6, \"nlikes\"] == 76, \"Неверное решение\"\n",
    "assert info.loc[5, \"nviews\"] == 3266, \"Неверное решение\"\n",
    "assert info.loc[2, \"nviews\"] == 2144, \"Неверное решение\""
   ]
  },
  {
   "cell_type": "markdown",
   "metadata": {},
   "source": [
    "## Часть 2: работа с файлом\n",
    "\n",
    "**Файл для работы**\n",
    "\n",
    "В файле `polit.csv` хранятся некоторые данные, используемые в [исследовании](http://jmcguire.faculty.wesleyan.edu/welcome/data/#20LActries) James W.McGuire, “Authoritarianism in the Middle East”.\n",
    "\n",
    "**Показатели:**\n",
    "\n",
    "* `ctry` – страна;\n",
    "* `fh09` – индекс *Freedom House* за 2009 год (от 1 до 7, большие значения соответствуют меньшему уровню гражданских свобод);\n",
    "* `polity09` – индекс *Polity2* за 2009 год (от -10 до 10, большие значения соответствуют большему уровню демократии);\n",
    "* `gini` – индекс Джини за 2000-2010 годы (индекс имущественного неравенства);\n",
    "* `fparl08` – доля женщин в парламенте в 2008 году (в процентах);\n",
    "* `mena` – регион *Middle East and North Africa (1 – да, 0 – нет)*;\n",
    "* `lati` – регион *Latin America*;\n",
    "* `cari` – регион *Caribbean, former British, French, Dutch colony*;\n",
    "* `east` – регион *East Asia*;\n",
    "* `sovi` – регион *Former Soviet Bloc*;\n",
    "* `afri` – регион *Africa*;\n",
    "* `corr0509` – индекс *Control of Corruption*, среднее за 2005-2009 годы."
   ]
  },
  {
   "cell_type": "markdown",
   "metadata": {},
   "source": [
    "### Задание 1\n",
    "\n",
    "Загрузите таблицу из файла `polit.csv`, используя *ссылку* на файл (это важно для тестов далее) и сохраните датафрейм в переменную `polit`. Если в датафрейме есть строки с пропущенными значениями, удалите их. Сохраните изменения в `polit`."
   ]
  },
  {
   "cell_type": "code",
   "execution_count": 31,
   "metadata": {
    "deletable": false,
    "nbgrader": {
     "checksum": "21b1db37a5b4813694f8a9c13e516225",
     "grade": false,
     "grade_id": "cell-bd09069837828d5c",
     "locked": false,
     "schema_version": 3,
     "solution": true,
     "task": false
    }
   },
   "outputs": [],
   "source": [
    "polit = pd.read_csv(\"polit.csv\")\n",
    "polit.dropna(inplace = True)"
   ]
  },
  {
   "cell_type": "code",
   "execution_count": 32,
   "metadata": {
    "deletable": false,
    "nbgrader": {
     "checksum": "267ba36cce9a0df14e19e5ff5f84c77b",
     "grade": true,
     "grade_id": "cell-dc3ca2ea24ead192",
     "locked": true,
     "points": 1,
     "schema_version": 3,
     "solution": false,
     "task": false
    }
   },
   "outputs": [],
   "source": [
    "assert polit.shape == (135, 13), \"Проверьте, сохранились ли изменения в polit\""
   ]
  },
  {
   "cell_type": "markdown",
   "metadata": {},
   "source": [
    "### Задание 2\n",
    "\n",
    "Выберите в датафрейме строки, которые соответствуют странам со значениями индекса *Freedom House* (`fh09`) выше 5. Сохраните их в датафрейм `not_free`."
   ]
  },
  {
   "cell_type": "code",
   "execution_count": 33,
   "metadata": {
    "deletable": false,
    "nbgrader": {
     "checksum": "78661c282cb8615e65edd5dc7ec1c1c5",
     "grade": false,
     "grade_id": "cell-ef43df4f0d5c0bd2",
     "locked": false,
     "schema_version": 3,
     "solution": true,
     "task": false
    }
   },
   "outputs": [],
   "source": [
    "not_free = polit[polit[\"fh09\"] > 5] "
   ]
  },
  {
   "cell_type": "code",
   "execution_count": 34,
   "metadata": {
    "deletable": false,
    "nbgrader": {
     "checksum": "e9ae06ebd9c1158b08b20447bcceb1d7",
     "grade": true,
     "grade_id": "cell-515d575403b98e13",
     "locked": true,
     "points": 1,
     "schema_version": 3,
     "solution": false,
     "task": false
    }
   },
   "outputs": [],
   "source": [
    "assert not_free.shape == (30, 13), \"Неверное число строк или столбцов\"\n",
    "assert not_free.iloc[3, 9] == 0, \"Неверный датафрейм\"\n",
    "assert not_free.iloc[19, 1] == 'Mauritania', \"Неверный датафрейм\""
   ]
  },
  {
   "cell_type": "markdown",
   "metadata": {},
   "source": [
    "### Задание 3\n",
    "\n",
    "Выберите в датафрейме строки, которые соответствуют странам Африки (`afri`) с процентом женщин в парламенте (`fparl08`) выше 30%. Сохраните их в датафрейм `af_w`."
   ]
  },
  {
   "cell_type": "code",
   "execution_count": 35,
   "metadata": {
    "deletable": false,
    "nbgrader": {
     "checksum": "6b00c7ce97910a581fd4fabdf7256f0e",
     "grade": false,
     "grade_id": "cell-821b3c361b5f0e7d",
     "locked": false,
     "schema_version": 3,
     "solution": true,
     "task": false
    }
   },
   "outputs": [],
   "source": [
    "af_w = polit[(polit[\"afri\"] == 1) & (polit[\"fparl08\"] > 30)] "
   ]
  },
  {
   "cell_type": "code",
   "execution_count": 36,
   "metadata": {
    "deletable": false,
    "nbgrader": {
     "checksum": "7d59a6b212859088917a4b3b3b5fd3be",
     "grade": true,
     "grade_id": "cell-4da7712178596899",
     "locked": true,
     "points": 1,
     "schema_version": 3,
     "solution": false,
     "task": false
    }
   },
   "outputs": [],
   "source": [
    "assert af_w.shape == (6, 13), \"Неверное число строк или столбцов\"\n",
    "assert af_w.iloc[3, 5] == 33.92, \"Неверный датафрейм\"\n",
    "assert af_w.iloc[5, 7] == 0, \"Неверный датафрейм\""
   ]
  },
  {
   "cell_type": "markdown",
   "metadata": {},
   "source": [
    "### Задание 4\n",
    "\n",
    "Выберите в датафрейме строки, которые соответствуют странам Африки или Латинской Америки (`afri` и `lati`) со значением индекса *Polity2* (`polity09`) больше или равным 8. Сохраните их в датафрейм `la_dem`."
   ]
  },
  {
   "cell_type": "code",
   "execution_count": 37,
   "metadata": {
    "deletable": false,
    "nbgrader": {
     "checksum": "62aff39c2687b770387b3441532f67db",
     "grade": false,
     "grade_id": "cell-505bba8952d6425e",
     "locked": false,
     "schema_version": 3,
     "solution": true,
     "task": false
    }
   },
   "outputs": [],
   "source": [
    "# обратите внимание на скобки, порядок операций важен\n",
    "\n",
    "la_dem = polit[((polit['afri'] == 1) | \n",
    "                (polit['lati'] == 1)) & (polit['polity09'] >= 8)]"
   ]
  },
  {
   "cell_type": "code",
   "execution_count": 38,
   "metadata": {
    "deletable": false,
    "nbgrader": {
     "checksum": "97dce8d4d8971df2418374436ea0f06d",
     "grade": true,
     "grade_id": "cell-451bfc8d30610712",
     "locked": true,
     "points": 1,
     "schema_version": 3,
     "solution": false,
     "task": false
    }
   },
   "outputs": [],
   "source": [
    "assert la_dem.shape == (18, 13), \"Неверное число строк или столбцов\"\n",
    "assert la_dem.iloc[3, 5] == 12.66, \"Неверный датафрейм\"\n",
    "assert la_dem.iloc[5, 7] == 1, \"Неверный датафрейм\""
   ]
  },
  {
   "cell_type": "markdown",
   "metadata": {},
   "source": [
    "### Задание 5\n",
    "\n",
    "Добавьте в датафрейм `polit` столбец `corr_round`, в котором будут храниться округленные до 2 знака после запятой значения индекса *Control of Corruption* (`corr0509`)."
   ]
  },
  {
   "cell_type": "code",
   "execution_count": 40,
   "metadata": {
    "deletable": false,
    "nbgrader": {
     "checksum": "d0072a0e2dc47330d385908822233031",
     "grade": false,
     "grade_id": "cell-b773c30a03303cd1",
     "locked": false,
     "schema_version": 3,
     "solution": true,
     "task": false
    }
   },
   "outputs": [],
   "source": [
    "# та же история, что и с log()\n",
    "# round() из numpy можно применять сразу \n",
    "# к последовательности значений\n",
    "\n",
    "polit[\"corr_round\"] = np.round(polit[\"corr0509\"], 2)"
   ]
  },
  {
   "cell_type": "code",
   "execution_count": 41,
   "metadata": {
    "deletable": false,
    "nbgrader": {
     "checksum": "520d6e03d7dee2572cefad273ceade03",
     "grade": true,
     "grade_id": "cell-8c2782bc419be172",
     "locked": true,
     "points": 1,
     "schema_version": 3,
     "solution": false,
     "task": false
    }
   },
   "outputs": [],
   "source": [
    "assert round(polit[\"corr_round\"].sum()) == -14.0, \"Ошибка в столбце corr_round\"\n",
    "assert polit[\"corr_round\"].max() == 2.38, \"Ошибка в столбце corr_round\""
   ]
  },
  {
   "cell_type": "markdown",
   "metadata": {},
   "source": [
    "### Задание 6 (2 балла)\n",
    "\n",
    "Добавьте в датафрейм `polit` столбец `fh_status`, в котором будут храниться типы стран в зависимости от значения индекса *Freedom House* (значения *free*, *partly free*, *not free*). Соответствие значений `fh09` с типами стран см. [здесь](https://freedomhouse.org/sites/default/files/2020-02/Methodology_FIW_2016.pdf) (*Table 3* на последней странице)."
   ]
  },
  {
   "cell_type": "code",
   "execution_count": 42,
   "metadata": {
    "deletable": false,
    "nbgrader": {
     "checksum": "071a8e7d18eb1463c4a9c1168c337576",
     "grade": false,
     "grade_id": "cell-6d3e86f6514ffe7c",
     "locked": false,
     "schema_version": 3,
     "solution": true,
     "task": false
    }
   },
   "outputs": [],
   "source": [
    "def get_status(x):\n",
    "    if x >= 1.0 and x <= 2.5:\n",
    "        r = \"free\"\n",
    "    if x >= 3 and x <= 5:\n",
    "        r = \"partly free\"\n",
    "    if x >= 5.5 and x <= 7:\n",
    "        r = \"not free\"\n",
    "    return r\n",
    "\n",
    "polit[\"fh_status\"] = polit[\"fh09\"].apply(get_status)"
   ]
  },
  {
   "cell_type": "code",
   "execution_count": 43,
   "metadata": {
    "deletable": false,
    "nbgrader": {
     "checksum": "d274de8e8546aea839df2f850f217e87",
     "grade": true,
     "grade_id": "cell-bf606937b0f2cb58",
     "locked": true,
     "points": 2,
     "schema_version": 3,
     "solution": false,
     "task": false
    }
   },
   "outputs": [],
   "source": [
    "assert polit[\"fh_status\"].value_counts().values[0] == 57, \"Неверные значения в столбце\"\n",
    "assert polit[\"fh_status\"].value_counts().values[1] == 48, \"Неверные значения в столбце\"\n",
    "assert polit[\"fh_status\"].value_counts().values[2] == 30, \"Неверные значения в столбце\"\n",
    "assert polit[\"fh_status\"].values[3] == 'free', \"Неверные значения в столбце\"\n",
    "assert polit[\"fh_status\"].values[4] == 'partly free', \"Неверные значения в столбце\"\n",
    "assert polit[\"fh_status\"].values[134] == 'not free', \"Неверные значения в столбце\""
   ]
  },
  {
   "cell_type": "markdown",
   "metadata": {},
   "source": [
    "### Задание 7\n",
    "\n",
    "Сгруппируйте строки в таблице в соответствии со значениями столбца `fh_status`, полученного в предыдущей части и выведите минимальное, среднее и максимальное значение показателя `gini` (индекс Джини) по каждой группе."
   ]
  },
  {
   "cell_type": "code",
   "execution_count": 45,
   "metadata": {},
   "outputs": [
    {
     "data": {
      "text/html": [
       "<div>\n",
       "<style scoped>\n",
       "    .dataframe tbody tr th:only-of-type {\n",
       "        vertical-align: middle;\n",
       "    }\n",
       "\n",
       "    .dataframe tbody tr th {\n",
       "        vertical-align: top;\n",
       "    }\n",
       "\n",
       "    .dataframe thead th {\n",
       "        text-align: right;\n",
       "    }\n",
       "</style>\n",
       "<table border=\"1\" class=\"dataframe\">\n",
       "  <thead>\n",
       "    <tr style=\"text-align: right;\">\n",
       "      <th></th>\n",
       "      <th>min</th>\n",
       "      <th>mean</th>\n",
       "      <th>max</th>\n",
       "    </tr>\n",
       "    <tr>\n",
       "      <th>fh_status</th>\n",
       "      <th></th>\n",
       "      <th></th>\n",
       "      <th></th>\n",
       "    </tr>\n",
       "  </thead>\n",
       "  <tbody>\n",
       "    <tr>\n",
       "      <td>free</td>\n",
       "      <td>24.7</td>\n",
       "      <td>38.170175</td>\n",
       "      <td>74.3</td>\n",
       "    </tr>\n",
       "    <tr>\n",
       "      <td>not free</td>\n",
       "      <td>16.8</td>\n",
       "      <td>39.750000</td>\n",
       "      <td>58.6</td>\n",
       "    </tr>\n",
       "    <tr>\n",
       "      <td>partly free</td>\n",
       "      <td>29.8</td>\n",
       "      <td>43.931250</td>\n",
       "      <td>64.3</td>\n",
       "    </tr>\n",
       "  </tbody>\n",
       "</table>\n",
       "</div>"
      ],
      "text/plain": [
       "              min       mean   max\n",
       "fh_status                         \n",
       "free         24.7  38.170175  74.3\n",
       "not free     16.8  39.750000  58.6\n",
       "partly free  29.8  43.931250  64.3"
      ]
     },
     "execution_count": 45,
     "metadata": {},
     "output_type": "execute_result"
    }
   ],
   "source": [
    "polit.groupby(\"fh_status\").agg([\"min\", \"mean\", \"max\"])[\"gini\"]"
   ]
  },
  {
   "cell_type": "markdown",
   "metadata": {},
   "source": [
    "### Задание 8\n",
    "\n",
    "Сгруппируйте строки в таблице в соответствии со значениями столбца `fh_status` и запишите строки, относящиеся к разным группам, в отдельные csv-файлы."
   ]
  },
  {
   "cell_type": "code",
   "execution_count": 46,
   "metadata": {},
   "outputs": [],
   "source": [
    "for name, data in polit.groupby(\"fh_status\"):\n",
    "    data.to_csv(name + \".csv\")"
   ]
  }
 ],
 "metadata": {
  "kernelspec": {
   "display_name": "Python 3",
   "language": "python",
   "name": "python3"
  },
  "language_info": {
   "codemirror_mode": {
    "name": "ipython",
    "version": 3
   },
   "file_extension": ".py",
   "mimetype": "text/x-python",
   "name": "python",
   "nbconvert_exporter": "python",
   "pygments_lexer": "ipython3",
   "version": "3.7.4"
  }
 },
 "nbformat": 4,
 "nbformat_minor": 2
}

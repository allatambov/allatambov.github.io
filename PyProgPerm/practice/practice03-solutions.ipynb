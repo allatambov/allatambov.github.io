{
 "cells": [
  {
   "cell_type": "markdown",
   "metadata": {},
   "source": [
    "# Программирование на Python\n",
    "\n",
    "*Алла Тамбовцева, НИУ ВШЭ*\n",
    "\n",
    "## Практикум 3: функции"
   ]
  },
  {
   "cell_type": "markdown",
   "metadata": {},
   "source": [
    "### Задача 1\n",
    "Напишите функцию `square()`, которая принимает на вход число и:\n",
    "\n",
    "* возвращает его квадрат;\n",
    "* выводит на экран сообщение вида \"Квадрат числа равен: n\" и ничего не возвращает;\n",
    "* выводит на экран сообщение вида \"Квадрат числа равен: n\" и возвращает квадрат числа;"
   ]
  },
  {
   "cell_type": "code",
   "execution_count": 1,
   "metadata": {},
   "outputs": [
    {
     "name": "stdout",
     "output_type": "stream",
     "text": [
      "64\n"
     ]
    }
   ],
   "source": [
    "def square01(x):\n",
    "    \"\"\"\n",
    "    Parameters:\n",
    "        x, integer or float.\n",
    "    Returns:\n",
    "        x squared.\n",
    "\n",
    "    \"\"\"\n",
    "    return x ** 2\n",
    "\n",
    "y = square01(8)\n",
    "print(y)"
   ]
  },
  {
   "cell_type": "code",
   "execution_count": 2,
   "metadata": {},
   "outputs": [
    {
     "name": "stdout",
     "output_type": "stream",
     "text": [
      "Квадрат числа равен: 64\n",
      "None\n"
     ]
    }
   ],
   "source": [
    "def square02(x):\n",
    "    \"\"\"\n",
    "    Parameters:\n",
    "        x, integer or float.\n",
    "    Prints a number x squared.\n",
    "    \"\"\"\n",
    "    print(\"Квадрат числа равен:\", x ** 2)\n",
    "    return\n",
    "\n",
    "y = square02(8)\n",
    "print(y)"
   ]
  },
  {
   "cell_type": "code",
   "execution_count": 4,
   "metadata": {},
   "outputs": [
    {
     "name": "stdout",
     "output_type": "stream",
     "text": [
      "Квадрат числа равен: 64\n",
      "64\n"
     ]
    }
   ],
   "source": [
    "def square03(x):\n",
    "    \"\"\"\n",
    "    Parameters:\n",
    "        x, integer or float.\n",
    "    Returns:\n",
    "        x squared.\n",
    "    Prints x squared.\n",
    "    \"\"\"\n",
    "    print(\"Квадрат числа равен:\", x ** 2)\n",
    "    return x ** 2\n",
    "\n",
    "y = square03(8)\n",
    "print(y)"
   ]
  },
  {
   "cell_type": "markdown",
   "metadata": {},
   "source": [
    "### Задача 2\n",
    "Напишите функцию `nums()`, которая принимает на вход целое число, а возвращает список из двух элементов: целое число, предшествующее принятому на вход, и число, следующее за ним.\n",
    "\n",
    "**Пример:**\n",
    "\n",
    "*Входные данные:*\n",
    "\n",
    "    7\n",
    "\n",
    "*Выходные данные:*\n",
    "\n",
    "    [6, 8]"
   ]
  },
  {
   "cell_type": "code",
   "execution_count": 5,
   "metadata": {},
   "outputs": [
    {
     "name": "stdout",
     "output_type": "stream",
     "text": [
      "[8, 10]\n"
     ]
    }
   ],
   "source": [
    "def nums(n):\n",
    "    \"\"\"\n",
    "    Parameters:\n",
    "        n, an integer.\n",
    "    Returns:\n",
    "        a list of two integers n-1 and n+1.\n",
    "    \"\"\"\n",
    "    return [n-1, n+1]\n",
    "\n",
    "L = nums(9)\n",
    "print(L)"
   ]
  },
  {
   "cell_type": "markdown",
   "metadata": {},
   "source": [
    "### Задача 3\n",
    "Напишите функцию `str_lower()`, которая принимает на вход строку (набор слов через пробел), а возвращает список ее элементов в нижнем регистре. \n",
    "\n",
    "**Пример:**\n",
    "\n",
    "*Входные данные:*\n",
    "\n",
    "    \"В лесу родилась ёлочка В лесу она росла\"\n",
    "\n",
    "*Выходные данные:*\n",
    "\n",
    "    ['в', 'лесу', 'родилась', 'ёлочка', 'в', 'лесу', 'она', 'росла']"
   ]
  },
  {
   "cell_type": "code",
   "execution_count": 6,
   "metadata": {},
   "outputs": [
    {
     "name": "stdout",
     "output_type": "stream",
     "text": [
      "['в', 'лесу', 'родилась', 'ёлочка', 'в', 'лесу', 'она', 'росла']\n"
     ]
    }
   ],
   "source": [
    "def str_lower(text):\n",
    "    \"\"\"\n",
    "    Parameters:\n",
    "        text, a string.\n",
    "    Returns:\n",
    "        a list of words, all lowercase.\n",
    "    \"\"\"\n",
    "    new = text.lower()\n",
    "    return new.split()\n",
    "\n",
    "print(str_lower(\"В лесу родилась ёлочка В лесу она росла\"))"
   ]
  },
  {
   "cell_type": "markdown",
   "metadata": {},
   "source": [
    "### Задача 4\n",
    "Напишите функцию `my_log()`, которая принимает на вход список чисел, и возвращает список их натуральных логарифмов. Если число меньше или равно 0, на его месте в возвращаемом списке должно быть None.\n",
    "\n",
    "**Пример:**\n",
    "\n",
    "*Входные данные:*\n",
    "\n",
    "    [1, 3, 2.5, -1, 9, 0, 2.71]\n",
    "\n",
    "*Выходные данные:*\n",
    "\n",
    "    [0.0,\n",
    "     1.0986122886681098,\n",
    "     0.9162907318741551,\n",
    "     None,\n",
    "     2.1972245773362196,\n",
    "     None,\n",
    "     0.9969486348916096]"
   ]
  },
  {
   "cell_type": "code",
   "execution_count": 7,
   "metadata": {},
   "outputs": [
    {
     "name": "stdout",
     "output_type": "stream",
     "text": [
      "[0.0, 1.0986122886681098, 0.9162907318741551, None, 2.1972245773362196, None, 0.9969486348916096]\n"
     ]
    }
   ],
   "source": [
    "from math import log\n",
    "\n",
    "def my_log(L):\n",
    "    \"\"\"\n",
    "    Parameters:\n",
    "        L, a list of float or integer numbers.\n",
    "    Returns:\n",
    "        a list of natural logarithms\n",
    "        (None for non-postivie values).\n",
    "    \"\"\"\n",
    "    R = []\n",
    "    for i in L:\n",
    "        if i > 0:\n",
    "            R.append(log(i))\n",
    "        else:\n",
    "            R.append(None)\n",
    "    return R\n",
    "\n",
    "print(my_log([1, 3, 2.5, -1, 9, 0, 2.71]))"
   ]
  },
  {
   "cell_type": "markdown",
   "metadata": {},
   "source": [
    "### Задача 5\n",
    "\n",
    "Напишите функцию `binom_prob()`, которая считает вероятность того, что проведя `n` испытаний Бернулли с вероятностью успеха `p`, мы получим ровно `k` успехов. Эта функция принимает на вход три аргумента: `p`, `n` и `k` и возвращает такой результат:\n",
    "\n",
    "$P(X = k) = C_n^k \\cdot p^k \\cdot (1-p)^{n-k}$."
   ]
  },
  {
   "cell_type": "code",
   "execution_count": 8,
   "metadata": {},
   "outputs": [
    {
     "name": "stdout",
     "output_type": "stream",
     "text": [
      "0.0439453125\n"
     ]
    }
   ],
   "source": [
    "def factorial(n):\n",
    "     \"\"\"\n",
    "    Parameters:\n",
    "         n, an integer\n",
    "    Returns:\n",
    "         factorial of n.\n",
    "    \"\"\"\n",
    "    f = 1\n",
    "    for i in range(2, n + 1):\n",
    "        f *= i\n",
    "    return f\n",
    "\n",
    "def binom_coef(n, k):\n",
    "    coef = factorial(n) // (factorial(k) * factorial(n-k))\n",
    "    return coef\n",
    "\n",
    "def binom_prob(n, k, p):\n",
    "    P = binom_coef(n, k) * p ** k * (1-p) ** (n-k)\n",
    "    return P\n",
    "\n",
    "print(binom_prob(10, 2, 0.5))"
   ]
  }
 ],
 "metadata": {
  "kernelspec": {
   "display_name": "Python 3",
   "language": "python",
   "name": "python3"
  },
  "language_info": {
   "codemirror_mode": {
    "name": "ipython",
    "version": 3
   },
   "file_extension": ".py",
   "mimetype": "text/x-python",
   "name": "python",
   "nbconvert_exporter": "python",
   "pygments_lexer": "ipython3",
   "version": "3.7.4"
  }
 },
 "nbformat": 4,
 "nbformat_minor": 2
}
